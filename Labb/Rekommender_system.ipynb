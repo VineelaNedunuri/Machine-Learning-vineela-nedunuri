{
 "cells": [
  {
   "attachments": {},
   "cell_type": "markdown",
   "metadata": {},
   "source": [
    "# 1. Recommender system\n"
   ]
  },
  {
   "attachments": {},
   "cell_type": "markdown",
   "metadata": {},
   "source": [
    "### 1.1 - Movielens full - EDA\n",
    "Nu ska du ladda ned datasetet ml-latest.zip under sektionen \"recommended for education and\n",
    "development\". Läs in dataseten \"movies.csv\" och \"ratings.csv\" besvara på följande frågorna neda"
   ]
  },
  {
   "cell_type": "code",
   "execution_count": null,
   "metadata": {},
   "outputs": [],
   "source": [
    "import pandas as pd\n",
    "import matplotlib.pyplot as plt\n",
    "\n",
    "# movie and rating csv file path\n",
    "movies = \"../Labb/data/movies.csv\"\n",
    "ratings = \"../Labb/data/ratings.csv\"\n",
    "\n",
    "# create a data frame for movies and ratings\n",
    "df_movies = pd.read_csv(\n",
    "    movies, dtype={\"movieId\": \"int32\", \"title\": \"str\", \"genres\": \"str\"}\n",
    ")\n",
    "df_ratings = pd.read_csv(\n",
    "    ratings,\n",
    "    dtype={\n",
    "        \"userId\": \"int32\",\n",
    "        \"movieId\": \"int32\",\n",
    "        \"rating\": \"float32\",\n",
    "        \"timestamp\": \"int32\",\n",
    "    },\n",
    ")\n",
    "df_movies.head()\n"
   ]
  },
  {
   "cell_type": "code",
   "execution_count": null,
   "metadata": {},
   "outputs": [],
   "source": [
    "df_ratings.head()"
   ]
  },
  {
   "cell_type": "code",
   "execution_count": null,
   "metadata": {},
   "outputs": [],
   "source": [
    "df_movies.shape,df_ratings.shape"
   ]
  },
  {
   "attachments": {},
   "cell_type": "markdown",
   "metadata": {},
   "source": [
    "#### a) Gör en EDA för att förstå datasetet. Inkludera olika slags plots. Begränsa dig inte till frågorna nedan,utan försök undersöka fler aspekter av datan."
   ]
  },
  {
   "cell_type": "code",
   "execution_count": null,
   "metadata": {},
   "outputs": [],
   "source": [
    "df_movies.info() # 3 columns, 58098 rows"
   ]
  },
  {
   "cell_type": "code",
   "execution_count": null,
   "metadata": {},
   "outputs": [],
   "source": [
    "df_movies.isnull().sum() # No missing values"
   ]
  },
  {
   "cell_type": "code",
   "execution_count": null,
   "metadata": {},
   "outputs": [],
   "source": [
    "# check for duplicates for movies data\n",
    "duplicates=df_movies.duplicated().sum()\n",
    "print('Number of duplicates rows : ',duplicates)"
   ]
  },
  {
   "cell_type": "code",
   "execution_count": null,
   "metadata": {},
   "outputs": [],
   "source": [
    "df_movies.describe().T # print the summary of statistics"
   ]
  },
  {
   "cell_type": "code",
   "execution_count": null,
   "metadata": {},
   "outputs": [],
   "source": [
    "# print total number of generes present in movies data\n",
    "generes=df_movies['genres'].nunique()\n",
    "print('The number of unique genres : ', generes)"
   ]
  },
  {
   "attachments": {},
   "cell_type": "markdown",
   "metadata": {},
   "source": [
    "###  Plot the movies genres frequency"
   ]
  },
  {
   "attachments": {},
   "cell_type": "markdown",
   "metadata": {},
   "source": [
    "- To get each genres count we have to split that each genes in all column. \n",
    "- Make a list for those columns.\n",
    "- Separete each genres from the list and count it. "
   ]
  },
  {
   "cell_type": "code",
   "execution_count": null,
   "metadata": {},
   "outputs": [],
   "source": [
    "df_movies['genres'].head() # geners with | so we have to split "
   ]
  },
  {
   "cell_type": "code",
   "execution_count": null,
   "metadata": {},
   "outputs": [],
   "source": [
    "df_genres_list =df_movies['genres'].str.split('|') # spilt generes using str.split()\n",
    "df_genres_list"
   ]
  },
  {
   "cell_type": "code",
   "execution_count": null,
   "metadata": {},
   "outputs": [],
   "source": [
    "movies = [name for genres in df_genres_list for name in genres] # list the each genres from df_genereslist \n"
   ]
  },
  {
   "cell_type": "code",
   "execution_count": null,
   "metadata": {},
   "outputs": [],
   "source": [
    "# list' object has no attribute 'value_count'-> so we need to convert list to pd.Series\n",
    "movies_gen = pd.Series(movies).value_counts()\n",
    "movies_gen"
   ]
  },
  {
   "cell_type": "code",
   "execution_count": null,
   "metadata": {},
   "outputs": [],
   "source": [
    "# To plot the movies genres using bar plot\n",
    "\n",
    "movies_gen.plot(\n",
    "    kind=\"barh\",\n",
    "    xlabel=\"Frequency\",\n",
    "    ylabel=\"Genres\",\n",
    "    title=\"Movie Genres Frequency\",\n",
    "    color=[\"violet\",\"orange\",\"green\",\"red\",\"grey\",\"purple\",\"darkred\",\"blue\"],\n",
    ")\n",
    "plt.show()\n"
   ]
  },
  {
   "cell_type": "code",
   "execution_count": null,
   "metadata": {},
   "outputs": [],
   "source": [
    "df_ratings.info() # 4 columns, 27753444 rows"
   ]
  },
  {
   "cell_type": "code",
   "execution_count": null,
   "metadata": {},
   "outputs": [],
   "source": [
    "df_ratings.isnull().sum() # No missing values"
   ]
  },
  {
   "cell_type": "code",
   "execution_count": null,
   "metadata": {},
   "outputs": [],
   "source": [
    "# check for duplicates for movies data\n",
    "duplicates_rating=df_ratings.duplicated().sum()\n",
    "print('Number of duplicates rows : ',duplicates_rating)"
   ]
  },
  {
   "cell_type": "code",
   "execution_count": null,
   "metadata": {},
   "outputs": [],
   "source": [
    "df_ratings.describe().T # print summary of Statistics"
   ]
  },
  {
   "cell_type": "code",
   "execution_count": null,
   "metadata": {},
   "outputs": [],
   "source": [
    "num_userId=df_ratings['userId'].nunique()\n",
    "print('The number of unique users:', num_userId)"
   ]
  },
  {
   "attachments": {},
   "cell_type": "markdown",
   "metadata": {},
   "source": [
    "### Plot the distribution of ratings"
   ]
  },
  {
   "cell_type": "code",
   "execution_count": null,
   "metadata": {},
   "outputs": [],
   "source": [
    "# plot distribution of rating using histogram\n",
    "df_ratings['rating'].hist()\n",
    "plt.xlabel('Rating')\n",
    "plt.ylabel('Frequency')\n",
    "plt.title('Distribution of Ratings')\n",
    "plt.show()"
   ]
  },
  {
   "cell_type": "code",
   "execution_count": null,
   "metadata": {},
   "outputs": [],
   "source": [
    "# Group the ratings by movie title and calculate the average rating for each movie\n",
    "df_movie_ratings = df_ratings.groupby('movieId')['rating'].agg(['mean', 'count']).round()\n",
    "df_movie_ratings.head()"
   ]
  },
  {
   "cell_type": "code",
   "execution_count": null,
   "metadata": {},
   "outputs": [],
   "source": [
    "# Convert timestamp colun to tim data format\n",
    "df_ratings['timestamp']=pd.to_datetime(df_ratings['timestamp'], unit='s')\n",
    "df_ratings.head()\n"
   ]
  },
  {
   "cell_type": "code",
   "execution_count": null,
   "metadata": {},
   "outputs": [],
   "source": [
    "# create a new column to extrat year from timestap\n",
    "df_ratings['year']=df_ratings['timestamp'].dt.year\n",
    "df_ratings.head()"
   ]
  },
  {
   "cell_type": "code",
   "execution_count": null,
   "metadata": {},
   "outputs": [],
   "source": [
    "# To plot number  and average of ratings given by user in years\n",
    "ratings_year=df_ratings.groupby('year')['rating'].count()\n",
    "avg_rating_year=df_ratings.groupby('year')['rating'].mean()\n",
    "\n",
    "# Plot the number of ratings per year\n",
    "fig,ax= plt.subplots(1,2,figsize=(12,6))\n",
    "ax[0].plot(ratings_year.index, ratings_year.values)\n",
    "ax[0].set_xlabel('Year')\n",
    "ax[0].set_ylabel('Number of Ratings')\n",
    "ax[0].set_title('Number of Ratings per Year')\n",
    "\n",
    "# Plot the average rating per year\n",
    "ax[1].plot(avg_rating_year.index, avg_rating_year.values)\n",
    "ax[1].set_xlabel('Year')\n",
    "ax[1].set_ylabel('Average Rating')\n",
    "ax[1].set_title('Average Rating per Year')\n",
    "\n",
    "# Display the plot\n",
    "plt.show()"
   ]
  },
  {
   "attachments": {},
   "cell_type": "markdown",
   "metadata": {},
   "source": [
    "### b) Vilka är de 10 filmerna med flest ratings?\n"
   ]
  },
  {
   "cell_type": "code",
   "execution_count": null,
   "metadata": {},
   "outputs": [],
   "source": [
    "# calculate the top 10 movies with most ratings\n",
    "top10_movies_rating =df_ratings.groupby(by = 'movieId')['rating'].count().sort_values(ascending=False).head(10) \n",
    "print('Top 10 movie most rating are:' )\n",
    "top10_movies_rating\n"
   ]
  },
  {
   "attachments": {},
   "cell_type": "markdown",
   "metadata": {},
   "source": [
    "### c) Beräkna den genomsnittliga ratingen för dessa 10 filmerna med flest ratings.\n"
   ]
  },
  {
   "cell_type": "code",
   "execution_count": null,
   "metadata": {},
   "outputs": [],
   "source": [
    "# check the data for only top 10 movies with most ratings \n",
    "top_10_ratings = df_ratings.query('movieId in @top10_movies_rating.index ')\n",
    "top_10_ratings"
   ]
  },
  {
   "cell_type": "code",
   "execution_count": null,
   "metadata": {},
   "outputs": [],
   "source": [
    "# caluclate the average mean value for those top 10 movies rating\n",
    "top_10_mean_ratings = top_10_ratings.groupby('movieId')['rating'].mean()\n",
    "\n",
    "print('The average mean value for top 10 movies rating are :')\n",
    "round(top_10_mean_ratings,1)\n"
   ]
  },
  {
   "attachments": {},
   "cell_type": "markdown",
   "metadata": {},
   "source": [
    "### d) Gör en plot över årtal och antalet filmer representerade i datasetet."
   ]
  },
  {
   "cell_type": "code",
   "execution_count": null,
   "metadata": {},
   "outputs": [],
   "source": [
    "df_movies.head()"
   ]
  },
  {
   "cell_type": "code",
   "execution_count": null,
   "metadata": {},
   "outputs": [],
   "source": [
    "# extract the year from the title column\n",
    "df_movies['year'] = df_movies['title'].str.extract(r'\\((\\d{4})\\)')\n",
    "df_movies.head()\n"
   ]
  },
  {
   "cell_type": "code",
   "execution_count": null,
   "metadata": {},
   "outputs": [],
   "source": [
    "# to remove year from the title colum\n",
    "df_movies['title'] = df_movies['title'].str.replace(r'\\(\\d{4}\\)', '', regex=True)\n",
    "df_movies.head()"
   ]
  },
  {
   "cell_type": "code",
   "execution_count": null,
   "metadata": {},
   "outputs": [],
   "source": [
    "df_movies.info()"
   ]
  },
  {
   "cell_type": "code",
   "execution_count": null,
   "metadata": {},
   "outputs": [],
   "source": [
    "df_movies =df_movies.dropna()\n",
    "df_movies"
   ]
  },
  {
   "cell_type": "code",
   "execution_count": null,
   "metadata": {},
   "outputs": [],
   "source": [
    "# Convert year column to int\n",
    "df_movies['year']= df_movies['year'].astype(int)\n",
    "df_movies.info()"
   ]
  },
  {
   "cell_type": "code",
   "execution_count": null,
   "metadata": {},
   "outputs": [],
   "source": [
    "# count the number of movies per year\n",
    "df_movies_per_year = df_movies.groupby(by='year')['movieId'].count()\n",
    "df_movies_per_year"
   ]
  },
  {
   "cell_type": "code",
   "execution_count": null,
   "metadata": {},
   "outputs": [],
   "source": [
    "\n",
    "# Plot graphically\n",
    "df_movies_per_year.plot(\n",
    "    kind=\"line\",\n",
    "    xlabel=\"Year\",\n",
    "    ylabel=\"Number of movies\",\n",
    "    title=\"Number of movies per year\",\n",
    "    legend=False,figsize=(8, 6)\n",
    ");\n"
   ]
  },
  {
   "cell_type": "code",
   "execution_count": null,
   "metadata": {},
   "outputs": [],
   "source": [
    "# split the title and year to separte column\n",
    "#df_movies[['title', 'year']] = df_movies['title'].str.split('(', n=1, expand=True) # https://pandas.pydata.org/docs/reference/api/pandas.Series.str.split.html\n",
    "#df_movies.head(10)"
   ]
  },
  {
   "cell_type": "code",
   "execution_count": null,
   "metadata": {},
   "outputs": [],
   "source": [
    "#df_movies['year']= df_movies['year'].str.strip(')') # to remove ')' in year column\n",
    "#df_movies.head()"
   ]
  },
  {
   "cell_type": "code",
   "execution_count": null,
   "metadata": {},
   "outputs": [],
   "source": [
    "#df_movies_per_year1 = df_movies.groupby(by='year')['movieId'].count()\n",
    "#df_movies_per_year1\n",
    "\n"
   ]
  },
  {
   "attachments": {},
   "cell_type": "markdown",
   "metadata": {},
   "source": [
    "### e) Gör en plot över antalet ratings mot movieId."
   ]
  },
  {
   "cell_type": "code",
   "execution_count": null,
   "metadata": {},
   "outputs": [],
   "source": [
    "df_ratings.head()"
   ]
  },
  {
   "cell_type": "code",
   "execution_count": null,
   "metadata": {},
   "outputs": [],
   "source": [
    "number_of_ratings = df_ratings.groupby(by='movieId')['rating'].count().reset_index()\n",
    "number_of_ratings"
   ]
  },
  {
   "cell_type": "code",
   "execution_count": null,
   "metadata": {},
   "outputs": [],
   "source": [
    "\n",
    "# Plot graphically\n",
    "number_of_ratings.plot(\n",
    "    kind=\"scatter\",x=\"movieId\",y=\"rating\",\n",
    "    xlabel=\"MovieId\",\n",
    "    ylabel=\"Number of ratings\",\n",
    "    title=\"Number of ratings vs movieId\",\n",
    "    legend=False,figsize=(8, 6)\n",
    ");"
   ]
  },
  {
   "attachments": {},
   "cell_type": "markdown",
   "metadata": {},
   "source": [
    "### f) Beräkna genomsnittliga ratings för de top 10 filmerna med flest ratings. Gör ett stapeldiagram över dessa.\n"
   ]
  },
  {
   "cell_type": "code",
   "execution_count": null,
   "metadata": {},
   "outputs": [],
   "source": [
    "# top 10 movies with most ratings\n",
    "top_10 = number_of_ratings.nlargest(10,columns='rating')\n",
    "top_10"
   ]
  },
  {
   "cell_type": "code",
   "execution_count": null,
   "metadata": {},
   "outputs": [],
   "source": [
    "# To get movie names merge data\n",
    "top_10_movie_title= pd.merge(top_10, df_movies, on='movieId')\n",
    "top_10_movie_title"
   ]
  },
  {
   "cell_type": "code",
   "execution_count": null,
   "metadata": {},
   "outputs": [],
   "source": [
    "# check the data for only top 10 movies with most ratings \n",
    "top_10_ratings = df_ratings.query('movieId in @top_10_movie_title[\"movieId\"]')\n",
    "top_10_ratings"
   ]
  },
  {
   "cell_type": "code",
   "execution_count": null,
   "metadata": {},
   "outputs": [],
   "source": [
    "top_10_movie_title_ratings_avg= top_10_ratings.groupby(by='movieId')['rating'].mean()\n",
    "round(top_10_movie_title_ratings_avg)"
   ]
  },
  {
   "cell_type": "code",
   "execution_count": null,
   "metadata": {},
   "outputs": [],
   "source": [
    "ax=top_10_movie_title_ratings_avg.plot(\n",
    "    kind=\"bar\",\n",
    "    stacked=True,\n",
    "    xlabel=\" Movie title\",\n",
    "    ylabel=\"Average rating\",\n",
    "    title=\"Average ratings for top 10 movies with most ratings\",\n",
    "    figsize=(10, 6)\n",
    ")\n",
    "# Set the x-axis labels to the movie titles\n",
    "ax.set_xticklabels(top_10_movie_title['title'])\n",
    "plt.show()\n"
   ]
  },
  {
   "attachments": {},
   "cell_type": "markdown",
   "metadata": {},
   "source": [
    "### 1.2 Skapa gles matris\n",
    "Likt i videon i uppgift 1.0 skapade du en pivottabell av dataframet med index: \"movieId\", columns: \"userId\"\n",
    "och values: \"ratings\". Denna pivottabell är dock \"dyr\" att skapa och förmodligen kommer inte din dator att\n",
    "klara av skapa den om du inte filtrerar bort viss data. Fundera ut ett lämpligt sätt att filtrera ditt dataset,\n",
    "pröva dig fram och motivera.\n",
    "Skapa en gles (sparse) matris av denna pivottabell mha scipy.sparse.csc_matrix().\n"
   ]
  },
  {
   "attachments": {},
   "cell_type": "markdown",
   "metadata": {},
   "source": [
    "- To filter the data we will consider the top 1000 movies with most ratings which are more or equal to 3.5 rating.\n",
    "  - firstly group moveid and count number of ratings of each movie\n",
    "  - then take only top 1000 movies rating\n",
    "  - fiter the ratings of those 1000 movies\n",
    "  - and then select only movies with 3.5 or more ratings from fitered ratings."
   ]
  },
  {
   "cell_type": "code",
   "execution_count": null,
   "metadata": {},
   "outputs": [],
   "source": [
    "df_movies.info()"
   ]
  },
  {
   "attachments": {},
   "cell_type": "markdown",
   "metadata": {},
   "source": [
    "To filter out the data\n",
    "- Remove the movies before 1990 as many prefer latest movies\n",
    "- Latest unique movies are consider\n",
    "- For latest movies which has more then 3 rating are consider as user prefer to watch 3 ratings more \n",
    "- Only movies with at least 500 ratings are considered.\n",
    "- From this filtered data, only users who have rated at least 50 movies are included. \n"
   ]
  },
  {
   "cell_type": "code",
   "execution_count": null,
   "metadata": {},
   "outputs": [],
   "source": [
    "# latest movies with their unique movies\n",
    "recent_movies = df_movies.query('year >= 1990')['movieId'].unique()\n",
    "recent_movies"
   ]
  },
  {
   "cell_type": "code",
   "execution_count": null,
   "metadata": {},
   "outputs": [],
   "source": [
    "# filters the ratings dataframe to keep only ratings for the latest movies\n",
    "latest_movie_ratings = df_ratings.query('movieId in @recent_movies')\n",
    "\n",
    "latest_movie_ratings"
   ]
  },
  {
   "cell_type": "code",
   "execution_count": null,
   "metadata": {},
   "outputs": [],
   "source": [
    "# filters the movies with rating  3 above\n",
    "high_ratings = latest_movie_ratings.query('rating >= 3')\n",
    "high_ratings"
   ]
  },
  {
   "attachments": {},
   "cell_type": "markdown",
   "metadata": {},
   "source": [
    "To filter the movies which have less than 50 ratings\n"
   ]
  },
  {
   "cell_type": "code",
   "execution_count": null,
   "metadata": {},
   "outputs": [],
   "source": [
    "#count the total movie ratings\n",
    "ratings_count = high_ratings.groupby('movieId')['rating'].count().reset_index()\n",
    "ratings_count.head()\n"
   ]
  },
  {
   "cell_type": "code",
   "execution_count": null,
   "metadata": {},
   "outputs": [],
   "source": [
    "# filter the movies which has below 50 rating\n",
    "more_ratings= ratings_count.query('rating >= 50')\n",
    "more_ratings.head()\n",
    "\n"
   ]
  },
  {
   "cell_type": "code",
   "execution_count": null,
   "metadata": {},
   "outputs": [],
   "source": [
    "# movieIds which are having more than are equal to 10 ratings\n",
    "filter_ratings = high_ratings.query('movieId in @more_ratings.index')\n",
    "filter_ratings\n"
   ]
  },
  {
   "attachments": {},
   "cell_type": "markdown",
   "metadata": {},
   "source": [
    "To filter the users who have given more than or equal to 50 ratings"
   ]
  },
  {
   "cell_type": "code",
   "execution_count": null,
   "metadata": {},
   "outputs": [],
   "source": [
    "# count the total number of ratings given by user\n",
    "#user_count = high_ratings.groupby('userId')['rating'].count().reset_index()\n",
    "#user_count.head()\n"
   ]
  },
  {
   "cell_type": "code",
   "execution_count": null,
   "metadata": {},
   "outputs": [],
   "source": [
    "# user given more than or equal 50 rating\n",
    "#more_count=user_count.query('rating >= 10')\n",
    "#more_count.head(3)"
   ]
  },
  {
   "cell_type": "code",
   "execution_count": null,
   "metadata": {},
   "outputs": [],
   "source": [
    "#filter_ratings=high_ratings.query('userId in @ more_count.index')\n",
    "#filter_ratings.head(3)"
   ]
  },
  {
   "cell_type": "code",
   "execution_count": null,
   "metadata": {},
   "outputs": [],
   "source": [
    "print('Filtered movie data size:',filter_ratings.shape)"
   ]
  },
  {
   "cell_type": "code",
   "execution_count": null,
   "metadata": {},
   "outputs": [],
   "source": [
    "filter_ratings = filter_ratings.drop(['timestamp','year'], axis=1)\n",
    "filter_ratings.head()"
   ]
  },
  {
   "cell_type": "code",
   "execution_count": null,
   "metadata": {},
   "outputs": [],
   "source": [
    "# Create a pivot table with the filtered ratings\n",
    "movies_users = filter_ratings.pivot_table(index='movieId', columns='userId', values='rating').fillna(0)\n",
    "movies_users\n"
   ]
  },
  {
   "cell_type": "code",
   "execution_count": null,
   "metadata": {},
   "outputs": [],
   "source": [
    "from scipy.sparse import csr_matrix \n",
    "\n",
    "# convert pivot table to spare matrix\n",
    "sparse_mat_movies_users = csr_matrix(movies_users.values)"
   ]
  },
  {
   "cell_type": "code",
   "execution_count": null,
   "metadata": {},
   "outputs": [],
   "source": [
    "df_movies.shape"
   ]
  },
  {
   "cell_type": "code",
   "execution_count": null,
   "metadata": {},
   "outputs": [],
   "source": [
    "# To set the correct index of movieId for both pivot table and df_movies\n",
    "df_movies_ratings = df_movies.query('movieId in @filter_ratings.movieId').reset_index(drop=True)\n",
    "df_movies_ratings"
   ]
  },
  {
   "attachments": {},
   "cell_type": "markdown",
   "metadata": {},
   "source": [
    "### 1.3 Recommender system\n",
    "Skapa ett recommender system med KNN och låt systemet ta input från användaren och skriva ut top 5\n",
    "rekommenderade filmerna, baserat på användarens sökquery. Observera att det finns ett logiskt fel i videon\n",
    "som gör att rekommendationerna inte blir så bra, försök hitta felet och åtgärda det.\n",
    "- a) Beskriv med ord hur ditt system fungerar.\n"
   ]
  },
  {
   "cell_type": "code",
   "execution_count": null,
   "metadata": {},
   "outputs": [],
   "source": [
    "from sklearn.neighbors import NearestNeighbors\n",
    "# Euclidean distance\n",
    "# Manhattan distance\n",
    "# MInkowski distance\n",
    "# Cosine similarity\n"
   ]
  },
  {
   "cell_type": "code",
   "execution_count": null,
   "metadata": {},
   "outputs": [],
   "source": [
    "from fuzzywuzzy import process\n",
    "\n",
    "movie_name =input('Enter movie name:')\n",
    "\n",
    "# Recommender(movie_name) -> List of Movies recommended\n",
    "def recommender(movie_name):\n",
    "    \n",
    "    # KNN model with cosine similarity metric and brute force algorithm with number of neighbors is set to 6 because to including the input movie itself\n",
    "    model_knn = NearestNeighbors(metric='cosine', algorithm='brute', n_neighbors=6)\n",
    "\n",
    "    # Fits the model to the sparse matrix of movie-user ratings\n",
    "    model_knn.fit(sparse_mat_movies_users)\n",
    "\n",
    "    ## Extracts the index of the input movie from the df_movies_ratings dataframe using fuzzywuzzy\n",
    "    idx = process.extractOne(movie_name, df_movies_ratings['title'])[2]\n",
    "\n",
    "    ## Prints the given input movie title and index\n",
    "    print('Movie Selected:', df_movies_ratings['title'][idx], 'index:', idx)\n",
    "    print('Searching for Recommendations.....')\n",
    "\n",
    "    ## Searches for the 5 nearest neighbors using the KNN model\n",
    "    indices = model_knn.kneighbors(sparse_mat_movies_users[idx], n_neighbors=6, return_distance=False)\n",
    "\n",
    "     # Prints the recommended movie titles (excluding the input movie itself)\n",
    "    for i in indices[0][1:]:\n",
    "        print(df_movies_ratings['title'][i])\n",
    "\n",
    "\n",
    "\n",
    "recommender(movie_name)\n"
   ]
  },
  {
   "cell_type": "code",
   "execution_count": null,
   "metadata": {},
   "outputs": [],
   "source": [
    "recommender(movie_name)"
   ]
  },
  {
   "attachments": {},
   "cell_type": "markdown",
   "metadata": {},
   "source": [
    "- Noted that there was a logical error in the original code where the selected movie was being included in the list of recommended movies."
   ]
  },
  {
   "attachments": {},
   "cell_type": "markdown",
   "metadata": {},
   "source": [
    "This recommender system uses KNN algorithm to print the top 5 recommended movies based on the input movie given by user.\n",
    "\n",
    "\n",
    "Here the fuction defined as recommender which takes two parameters.\n",
    "- movie_name: title of the movie given by user\n",
    "- n_recommendation: number of recommendations, so we need for this system n=5\n",
    "\n",
    "sparse matrix representing the userId-movieId rating matrix  and model is K-Nearest Neighbors model \n",
    "\n",
    "We use the process.extractOne function from the fuzzywuzzy package to find the closest matching movie title in the dataset and it should help to handle minor differences in spelling of title.\n",
    "\n",
    "By using the KNN model, the distances and indices of the K-nearest neighbors of the selected movie are then calculated and we add 1 to the n_recommendation in kneighbors function because closest neigbour to the selected movie will be the movie itself which we want to exclude it.\n",
    "\n",
    "Finally, the top 5 recommendations are printed by iterating through indices[0][1:] instead of just indices because we want to exclude the selected movie itself and then print their corresponding movie titles.\n",
    "\n",
    "  "
   ]
  },
  {
   "attachments": {},
   "cell_type": "markdown",
   "metadata": {},
   "source": [
    "- b) Leta online och läs vidare om rekommenderarsystem och beskriv kort hur dem fungerar. Glöm inte\n",
    "källhänvisa."
   ]
  }
 ],
 "metadata": {
  "kernelspec": {
   "display_name": "Machine-learning-tetaV3aO",
   "language": "python",
   "name": "python3"
  },
  "language_info": {
   "codemirror_mode": {
    "name": "ipython",
    "version": 3
   },
   "file_extension": ".py",
   "mimetype": "text/x-python",
   "name": "python",
   "nbconvert_exporter": "python",
   "pygments_lexer": "ipython3",
   "version": "3.9.13"
  },
  "orig_nbformat": 4,
  "vscode": {
   "interpreter": {
    "hash": "81a898db1c2a35772e01bd9285280d1a32f1c69381a19d2adcbd588089b435df"
   }
  }
 },
 "nbformat": 4,
 "nbformat_minor": 2
}
