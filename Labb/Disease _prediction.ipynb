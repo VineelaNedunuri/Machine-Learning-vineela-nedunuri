{
 "cells": [
  {
   "attachments": {},
   "cell_type": "markdown",
   "metadata": {},
   "source": [
    "# 2. Disease prediction\n",
    "I det här momentet kommer vi jobba med ett dataset med data för hjärt-kärlsjukdom. Börja med att ladda\n",
    "ned datasetet från Kaggle och läs på vad de olika features betyder. Notera att detta dataset innehåller\n",
    "många felaktigheter, exempelvis finns negativa blodtryck och blodtryck som är omöjligt höga."
   ]
  },
  {
   "cell_type": "code",
   "execution_count": 317,
   "metadata": {},
   "outputs": [
    {
     "data": {
      "text/html": [
       "<div>\n",
       "<style scoped>\n",
       "    .dataframe tbody tr th:only-of-type {\n",
       "        vertical-align: middle;\n",
       "    }\n",
       "\n",
       "    .dataframe tbody tr th {\n",
       "        vertical-align: top;\n",
       "    }\n",
       "\n",
       "    .dataframe thead th {\n",
       "        text-align: right;\n",
       "    }\n",
       "</style>\n",
       "<table border=\"1\" class=\"dataframe\">\n",
       "  <thead>\n",
       "    <tr style=\"text-align: right;\">\n",
       "      <th></th>\n",
       "      <th>id</th>\n",
       "      <th>age</th>\n",
       "      <th>gender</th>\n",
       "      <th>height</th>\n",
       "      <th>weight</th>\n",
       "      <th>ap_hi</th>\n",
       "      <th>ap_lo</th>\n",
       "      <th>cholesterol</th>\n",
       "      <th>gluc</th>\n",
       "      <th>smoke</th>\n",
       "      <th>alco</th>\n",
       "      <th>active</th>\n",
       "      <th>cardio</th>\n",
       "    </tr>\n",
       "  </thead>\n",
       "  <tbody>\n",
       "    <tr>\n",
       "      <th>0</th>\n",
       "      <td>0</td>\n",
       "      <td>18393</td>\n",
       "      <td>2</td>\n",
       "      <td>168</td>\n",
       "      <td>62.0</td>\n",
       "      <td>110</td>\n",
       "      <td>80</td>\n",
       "      <td>1</td>\n",
       "      <td>1</td>\n",
       "      <td>0</td>\n",
       "      <td>0</td>\n",
       "      <td>1</td>\n",
       "      <td>0</td>\n",
       "    </tr>\n",
       "    <tr>\n",
       "      <th>1</th>\n",
       "      <td>1</td>\n",
       "      <td>20228</td>\n",
       "      <td>1</td>\n",
       "      <td>156</td>\n",
       "      <td>85.0</td>\n",
       "      <td>140</td>\n",
       "      <td>90</td>\n",
       "      <td>3</td>\n",
       "      <td>1</td>\n",
       "      <td>0</td>\n",
       "      <td>0</td>\n",
       "      <td>1</td>\n",
       "      <td>1</td>\n",
       "    </tr>\n",
       "    <tr>\n",
       "      <th>2</th>\n",
       "      <td>2</td>\n",
       "      <td>18857</td>\n",
       "      <td>1</td>\n",
       "      <td>165</td>\n",
       "      <td>64.0</td>\n",
       "      <td>130</td>\n",
       "      <td>70</td>\n",
       "      <td>3</td>\n",
       "      <td>1</td>\n",
       "      <td>0</td>\n",
       "      <td>0</td>\n",
       "      <td>0</td>\n",
       "      <td>1</td>\n",
       "    </tr>\n",
       "    <tr>\n",
       "      <th>3</th>\n",
       "      <td>3</td>\n",
       "      <td>17623</td>\n",
       "      <td>2</td>\n",
       "      <td>169</td>\n",
       "      <td>82.0</td>\n",
       "      <td>150</td>\n",
       "      <td>100</td>\n",
       "      <td>1</td>\n",
       "      <td>1</td>\n",
       "      <td>0</td>\n",
       "      <td>0</td>\n",
       "      <td>1</td>\n",
       "      <td>1</td>\n",
       "    </tr>\n",
       "    <tr>\n",
       "      <th>4</th>\n",
       "      <td>4</td>\n",
       "      <td>17474</td>\n",
       "      <td>1</td>\n",
       "      <td>156</td>\n",
       "      <td>56.0</td>\n",
       "      <td>100</td>\n",
       "      <td>60</td>\n",
       "      <td>1</td>\n",
       "      <td>1</td>\n",
       "      <td>0</td>\n",
       "      <td>0</td>\n",
       "      <td>0</td>\n",
       "      <td>0</td>\n",
       "    </tr>\n",
       "  </tbody>\n",
       "</table>\n",
       "</div>"
      ],
      "text/plain": [
       "   id    age  gender  height  weight  ap_hi  ap_lo  cholesterol  gluc  smoke  \\\n",
       "0   0  18393       2     168    62.0    110     80            1     1      0   \n",
       "1   1  20228       1     156    85.0    140     90            3     1      0   \n",
       "2   2  18857       1     165    64.0    130     70            3     1      0   \n",
       "3   3  17623       2     169    82.0    150    100            1     1      0   \n",
       "4   4  17474       1     156    56.0    100     60            1     1      0   \n",
       "\n",
       "   alco  active  cardio  \n",
       "0     0       1       0  \n",
       "1     0       1       1  \n",
       "2     0       0       1  \n",
       "3     0       1       1  \n",
       "4     0       0       0  "
      ]
     },
     "execution_count": 317,
     "metadata": {},
     "output_type": "execute_result"
    }
   ],
   "source": [
    "import pandas as pd\n",
    "import matplotlib.pyplot as plt\n",
    "import seaborn as sns\n",
    "\n",
    "\n",
    "data= pd.read_csv('../Labb/data/cardio_train.csv',sep=\";\")\n",
    "data.head()"
   ]
  },
  {
   "attachments": {},
   "cell_type": "markdown",
   "metadata": {},
   "source": [
    "#### Features:\n",
    "\n",
    "- id (int)\n",
    "- Age in days (int) \n",
    "- Height in cm  (int) \n",
    "- Weight in kg  (float) \n",
    "- Gender : Men, Women\n",
    "- ap_hi: Systolic blood pressure   (int)\n",
    "- ap_lo: Diastolic blood pressure  (int) \n",
    "- Cholesterol - 1: normal, 2: above normal, 3: well above normal\n",
    "- gluc: Glucose 1: normal, 2: above normal, 3: well above normal \n",
    "- smoke: Smoking - binary : 0: No, 1: yes\n",
    "- alco: Alcohol intake - binary : 0: No, 1: yes\n",
    "- active : Physical activity - binary : 0: No, 1: yes\n",
    "- cardio: Presence or absence of cardiovascular disease - binary: 0: No, 1: yes"
   ]
  },
  {
   "cell_type": "code",
   "execution_count": 318,
   "metadata": {},
   "outputs": [],
   "source": [
    "data['gender'].replace({1:'Women', 2:'Men'}, inplace=True)"
   ]
  },
  {
   "attachments": {},
   "cell_type": "markdown",
   "metadata": {},
   "source": [
    "##### convert age column in days to years: (years= days / 365)"
   ]
  },
  {
   "cell_type": "code",
   "execution_count": 319,
   "metadata": {},
   "outputs": [
    {
     "data": {
      "text/plain": [
       "0    50.0\n",
       "1    55.0\n",
       "2    52.0\n",
       "3    48.0\n",
       "4    48.0\n",
       "Name: age, dtype: float64"
      ]
     },
     "execution_count": 319,
     "metadata": {},
     "output_type": "execute_result"
    }
   ],
   "source": [
    "data['age']= round(data['age']/365)\n",
    "data['age'].head()"
   ]
  },
  {
   "cell_type": "code",
   "execution_count": 320,
   "metadata": {},
   "outputs": [
    {
     "data": {
      "text/html": [
       "<div>\n",
       "<style scoped>\n",
       "    .dataframe tbody tr th:only-of-type {\n",
       "        vertical-align: middle;\n",
       "    }\n",
       "\n",
       "    .dataframe tbody tr th {\n",
       "        vertical-align: top;\n",
       "    }\n",
       "\n",
       "    .dataframe thead th {\n",
       "        text-align: right;\n",
       "    }\n",
       "</style>\n",
       "<table border=\"1\" class=\"dataframe\">\n",
       "  <thead>\n",
       "    <tr style=\"text-align: right;\">\n",
       "      <th></th>\n",
       "      <th>id</th>\n",
       "      <th>age</th>\n",
       "      <th>gender</th>\n",
       "      <th>height</th>\n",
       "      <th>weight</th>\n",
       "      <th>ap_hi</th>\n",
       "      <th>ap_lo</th>\n",
       "      <th>cholesterol</th>\n",
       "      <th>gluc</th>\n",
       "      <th>smoke</th>\n",
       "      <th>alco</th>\n",
       "      <th>active</th>\n",
       "      <th>cardio</th>\n",
       "    </tr>\n",
       "  </thead>\n",
       "  <tbody>\n",
       "    <tr>\n",
       "      <th>0</th>\n",
       "      <td>0</td>\n",
       "      <td>50.0</td>\n",
       "      <td>Men</td>\n",
       "      <td>168</td>\n",
       "      <td>62.0</td>\n",
       "      <td>110</td>\n",
       "      <td>80</td>\n",
       "      <td>1</td>\n",
       "      <td>1</td>\n",
       "      <td>0</td>\n",
       "      <td>0</td>\n",
       "      <td>1</td>\n",
       "      <td>0</td>\n",
       "    </tr>\n",
       "    <tr>\n",
       "      <th>1</th>\n",
       "      <td>1</td>\n",
       "      <td>55.0</td>\n",
       "      <td>Women</td>\n",
       "      <td>156</td>\n",
       "      <td>85.0</td>\n",
       "      <td>140</td>\n",
       "      <td>90</td>\n",
       "      <td>3</td>\n",
       "      <td>1</td>\n",
       "      <td>0</td>\n",
       "      <td>0</td>\n",
       "      <td>1</td>\n",
       "      <td>1</td>\n",
       "    </tr>\n",
       "    <tr>\n",
       "      <th>2</th>\n",
       "      <td>2</td>\n",
       "      <td>52.0</td>\n",
       "      <td>Women</td>\n",
       "      <td>165</td>\n",
       "      <td>64.0</td>\n",
       "      <td>130</td>\n",
       "      <td>70</td>\n",
       "      <td>3</td>\n",
       "      <td>1</td>\n",
       "      <td>0</td>\n",
       "      <td>0</td>\n",
       "      <td>0</td>\n",
       "      <td>1</td>\n",
       "    </tr>\n",
       "  </tbody>\n",
       "</table>\n",
       "</div>"
      ],
      "text/plain": [
       "   id   age gender  height  weight  ap_hi  ap_lo  cholesterol  gluc  smoke  \\\n",
       "0   0  50.0    Men     168    62.0    110     80            1     1      0   \n",
       "1   1  55.0  Women     156    85.0    140     90            3     1      0   \n",
       "2   2  52.0  Women     165    64.0    130     70            3     1      0   \n",
       "\n",
       "   alco  active  cardio  \n",
       "0     0       1       0  \n",
       "1     0       1       1  \n",
       "2     0       0       1  "
      ]
     },
     "execution_count": 320,
     "metadata": {},
     "output_type": "execute_result"
    }
   ],
   "source": [
    "df = data.copy(deep=True)\n",
    "df.head(3)"
   ]
  },
  {
   "cell_type": "code",
   "execution_count": 321,
   "metadata": {},
   "outputs": [],
   "source": [
    "# replace all the colums \n",
    "#df['gender'].replace({1:'Women', 2:'Men'}, inplace=True)\n",
    "df['cholesterol'].replace({1: 'normal', 2: 'above normal', 3: 'well above normal'},inplace=True)\n",
    "df['gluc'].replace({1: 'normal', 2: 'above normal', 3: 'well above normal'},inplace=True)\n",
    "df['smoke'].replace({0:'No',1:'Yes'},inplace=True)\n",
    "df['alco'].replace({0:'No',1:'Yes'},inplace=True)\n",
    "df['active'].replace({0:'No',1:'Yes'},inplace=True)\n",
    "df['cardio'].replace({0:'No',1:'Yes'},inplace=True)\n"
   ]
  },
  {
   "cell_type": "code",
   "execution_count": 322,
   "metadata": {},
   "outputs": [
    {
     "data": {
      "text/html": [
       "<div>\n",
       "<style scoped>\n",
       "    .dataframe tbody tr th:only-of-type {\n",
       "        vertical-align: middle;\n",
       "    }\n",
       "\n",
       "    .dataframe tbody tr th {\n",
       "        vertical-align: top;\n",
       "    }\n",
       "\n",
       "    .dataframe thead th {\n",
       "        text-align: right;\n",
       "    }\n",
       "</style>\n",
       "<table border=\"1\" class=\"dataframe\">\n",
       "  <thead>\n",
       "    <tr style=\"text-align: right;\">\n",
       "      <th></th>\n",
       "      <th>id</th>\n",
       "      <th>age</th>\n",
       "      <th>gender</th>\n",
       "      <th>height</th>\n",
       "      <th>weight</th>\n",
       "      <th>ap_hi</th>\n",
       "      <th>ap_lo</th>\n",
       "      <th>cholesterol</th>\n",
       "      <th>gluc</th>\n",
       "      <th>smoke</th>\n",
       "      <th>alco</th>\n",
       "      <th>active</th>\n",
       "      <th>cardio</th>\n",
       "    </tr>\n",
       "  </thead>\n",
       "  <tbody>\n",
       "    <tr>\n",
       "      <th>0</th>\n",
       "      <td>0</td>\n",
       "      <td>50.0</td>\n",
       "      <td>Men</td>\n",
       "      <td>168</td>\n",
       "      <td>62.0</td>\n",
       "      <td>110</td>\n",
       "      <td>80</td>\n",
       "      <td>normal</td>\n",
       "      <td>normal</td>\n",
       "      <td>No</td>\n",
       "      <td>No</td>\n",
       "      <td>Yes</td>\n",
       "      <td>No</td>\n",
       "    </tr>\n",
       "    <tr>\n",
       "      <th>1</th>\n",
       "      <td>1</td>\n",
       "      <td>55.0</td>\n",
       "      <td>Women</td>\n",
       "      <td>156</td>\n",
       "      <td>85.0</td>\n",
       "      <td>140</td>\n",
       "      <td>90</td>\n",
       "      <td>well above normal</td>\n",
       "      <td>normal</td>\n",
       "      <td>No</td>\n",
       "      <td>No</td>\n",
       "      <td>Yes</td>\n",
       "      <td>Yes</td>\n",
       "    </tr>\n",
       "    <tr>\n",
       "      <th>2</th>\n",
       "      <td>2</td>\n",
       "      <td>52.0</td>\n",
       "      <td>Women</td>\n",
       "      <td>165</td>\n",
       "      <td>64.0</td>\n",
       "      <td>130</td>\n",
       "      <td>70</td>\n",
       "      <td>well above normal</td>\n",
       "      <td>normal</td>\n",
       "      <td>No</td>\n",
       "      <td>No</td>\n",
       "      <td>No</td>\n",
       "      <td>Yes</td>\n",
       "    </tr>\n",
       "    <tr>\n",
       "      <th>3</th>\n",
       "      <td>3</td>\n",
       "      <td>48.0</td>\n",
       "      <td>Men</td>\n",
       "      <td>169</td>\n",
       "      <td>82.0</td>\n",
       "      <td>150</td>\n",
       "      <td>100</td>\n",
       "      <td>normal</td>\n",
       "      <td>normal</td>\n",
       "      <td>No</td>\n",
       "      <td>No</td>\n",
       "      <td>Yes</td>\n",
       "      <td>Yes</td>\n",
       "    </tr>\n",
       "    <tr>\n",
       "      <th>4</th>\n",
       "      <td>4</td>\n",
       "      <td>48.0</td>\n",
       "      <td>Women</td>\n",
       "      <td>156</td>\n",
       "      <td>56.0</td>\n",
       "      <td>100</td>\n",
       "      <td>60</td>\n",
       "      <td>normal</td>\n",
       "      <td>normal</td>\n",
       "      <td>No</td>\n",
       "      <td>No</td>\n",
       "      <td>No</td>\n",
       "      <td>No</td>\n",
       "    </tr>\n",
       "  </tbody>\n",
       "</table>\n",
       "</div>"
      ],
      "text/plain": [
       "   id   age gender  height  weight  ap_hi  ap_lo        cholesterol    gluc  \\\n",
       "0   0  50.0    Men     168    62.0    110     80             normal  normal   \n",
       "1   1  55.0  Women     156    85.0    140     90  well above normal  normal   \n",
       "2   2  52.0  Women     165    64.0    130     70  well above normal  normal   \n",
       "3   3  48.0    Men     169    82.0    150    100             normal  normal   \n",
       "4   4  48.0  Women     156    56.0    100     60             normal  normal   \n",
       "\n",
       "  smoke alco active cardio  \n",
       "0    No   No    Yes     No  \n",
       "1    No   No    Yes    Yes  \n",
       "2    No   No     No    Yes  \n",
       "3    No   No    Yes    Yes  \n",
       "4    No   No     No     No  "
      ]
     },
     "execution_count": 322,
     "metadata": {},
     "output_type": "execute_result"
    }
   ],
   "source": [
    "df.head()"
   ]
  },
  {
   "cell_type": "code",
   "execution_count": 323,
   "metadata": {},
   "outputs": [
    {
     "data": {
      "text/plain": [
       "(70000, 13)"
      ]
     },
     "execution_count": 323,
     "metadata": {},
     "output_type": "execute_result"
    }
   ],
   "source": [
    "df.shape # rows: 70000, columns: 13"
   ]
  },
  {
   "cell_type": "code",
   "execution_count": 324,
   "metadata": {},
   "outputs": [
    {
     "name": "stdout",
     "output_type": "stream",
     "text": [
      "<class 'pandas.core.frame.DataFrame'>\n",
      "RangeIndex: 70000 entries, 0 to 69999\n",
      "Data columns (total 13 columns):\n",
      " #   Column       Non-Null Count  Dtype  \n",
      "---  ------       --------------  -----  \n",
      " 0   id           70000 non-null  int64  \n",
      " 1   age          70000 non-null  float64\n",
      " 2   gender       70000 non-null  object \n",
      " 3   height       70000 non-null  int64  \n",
      " 4   weight       70000 non-null  float64\n",
      " 5   ap_hi        70000 non-null  int64  \n",
      " 6   ap_lo        70000 non-null  int64  \n",
      " 7   cholesterol  70000 non-null  object \n",
      " 8   gluc         70000 non-null  object \n",
      " 9   smoke        70000 non-null  object \n",
      " 10  alco         70000 non-null  object \n",
      " 11  active       70000 non-null  object \n",
      " 12  cardio       70000 non-null  object \n",
      "dtypes: float64(2), int64(4), object(7)\n",
      "memory usage: 6.9+ MB\n"
     ]
    }
   ],
   "source": [
    "df.info()"
   ]
  },
  {
   "cell_type": "code",
   "execution_count": 325,
   "metadata": {},
   "outputs": [
    {
     "data": {
      "text/plain": [
       "id             0\n",
       "age            0\n",
       "gender         0\n",
       "height         0\n",
       "weight         0\n",
       "ap_hi          0\n",
       "ap_lo          0\n",
       "cholesterol    0\n",
       "gluc           0\n",
       "smoke          0\n",
       "alco           0\n",
       "active         0\n",
       "cardio         0\n",
       "dtype: int64"
      ]
     },
     "execution_count": 325,
     "metadata": {},
     "output_type": "execute_result"
    }
   ],
   "source": [
    "df.isnull().sum() # no missing values"
   ]
  },
  {
   "cell_type": "code",
   "execution_count": 326,
   "metadata": {},
   "outputs": [
    {
     "data": {
      "text/html": [
       "<div>\n",
       "<style scoped>\n",
       "    .dataframe tbody tr th:only-of-type {\n",
       "        vertical-align: middle;\n",
       "    }\n",
       "\n",
       "    .dataframe tbody tr th {\n",
       "        vertical-align: top;\n",
       "    }\n",
       "\n",
       "    .dataframe thead th {\n",
       "        text-align: right;\n",
       "    }\n",
       "</style>\n",
       "<table border=\"1\" class=\"dataframe\">\n",
       "  <thead>\n",
       "    <tr style=\"text-align: right;\">\n",
       "      <th></th>\n",
       "      <th>count</th>\n",
       "      <th>mean</th>\n",
       "      <th>std</th>\n",
       "      <th>min</th>\n",
       "      <th>25%</th>\n",
       "      <th>50%</th>\n",
       "      <th>75%</th>\n",
       "      <th>max</th>\n",
       "    </tr>\n",
       "  </thead>\n",
       "  <tbody>\n",
       "    <tr>\n",
       "      <th>age</th>\n",
       "      <td>70000.0</td>\n",
       "      <td>53.338686</td>\n",
       "      <td>6.765294</td>\n",
       "      <td>30.0</td>\n",
       "      <td>48.0</td>\n",
       "      <td>54.0</td>\n",
       "      <td>58.0</td>\n",
       "      <td>65.0</td>\n",
       "    </tr>\n",
       "    <tr>\n",
       "      <th>height</th>\n",
       "      <td>70000.0</td>\n",
       "      <td>164.359229</td>\n",
       "      <td>8.210126</td>\n",
       "      <td>55.0</td>\n",
       "      <td>159.0</td>\n",
       "      <td>165.0</td>\n",
       "      <td>170.0</td>\n",
       "      <td>250.0</td>\n",
       "    </tr>\n",
       "    <tr>\n",
       "      <th>weight</th>\n",
       "      <td>70000.0</td>\n",
       "      <td>74.205690</td>\n",
       "      <td>14.395757</td>\n",
       "      <td>10.0</td>\n",
       "      <td>65.0</td>\n",
       "      <td>72.0</td>\n",
       "      <td>82.0</td>\n",
       "      <td>200.0</td>\n",
       "    </tr>\n",
       "    <tr>\n",
       "      <th>ap_hi</th>\n",
       "      <td>70000.0</td>\n",
       "      <td>128.817286</td>\n",
       "      <td>154.011419</td>\n",
       "      <td>-150.0</td>\n",
       "      <td>120.0</td>\n",
       "      <td>120.0</td>\n",
       "      <td>140.0</td>\n",
       "      <td>16020.0</td>\n",
       "    </tr>\n",
       "    <tr>\n",
       "      <th>ap_lo</th>\n",
       "      <td>70000.0</td>\n",
       "      <td>96.630414</td>\n",
       "      <td>188.472530</td>\n",
       "      <td>-70.0</td>\n",
       "      <td>80.0</td>\n",
       "      <td>80.0</td>\n",
       "      <td>90.0</td>\n",
       "      <td>11000.0</td>\n",
       "    </tr>\n",
       "  </tbody>\n",
       "</table>\n",
       "</div>"
      ],
      "text/plain": [
       "          count        mean         std    min    25%    50%    75%      max\n",
       "age     70000.0   53.338686    6.765294   30.0   48.0   54.0   58.0     65.0\n",
       "height  70000.0  164.359229    8.210126   55.0  159.0  165.0  170.0    250.0\n",
       "weight  70000.0   74.205690   14.395757   10.0   65.0   72.0   82.0    200.0\n",
       "ap_hi   70000.0  128.817286  154.011419 -150.0  120.0  120.0  140.0  16020.0\n",
       "ap_lo   70000.0   96.630414  188.472530  -70.0   80.0   80.0   90.0  11000.0"
      ]
     },
     "execution_count": 326,
     "metadata": {},
     "output_type": "execute_result"
    }
   ],
   "source": [
    "df.drop('id', axis=1).describe().T\n"
   ]
  },
  {
   "cell_type": "code",
   "execution_count": 327,
   "metadata": {},
   "outputs": [],
   "source": [
    "#df.describe().apply(lambda x: x.apply('{0:.2f}'.format)).T"
   ]
  },
  {
   "attachments": {},
   "cell_type": "markdown",
   "metadata": {},
   "source": [
    "### a) Hur många är positiva för hjärt-kärlsjukdom och hur många är negativa?"
   ]
  },
  {
   "cell_type": "code",
   "execution_count": 328,
   "metadata": {},
   "outputs": [
    {
     "name": "stdout",
     "output_type": "stream",
     "text": [
      "Positive and Negative cardio casess are: \n"
     ]
    },
    {
     "data": {
      "text/plain": [
       "No     35021\n",
       "Yes    34979\n",
       "Name: cardio, dtype: int64"
      ]
     },
     "execution_count": 328,
     "metadata": {},
     "output_type": "execute_result"
    }
   ],
   "source": [
    "disease_count = df['cardio'].value_counts()\n",
    "print('Positive and Negative cardio casess are: ')\n",
    "disease_count"
   ]
  },
  {
   "attachments": {},
   "cell_type": "markdown",
   "metadata": {},
   "source": [
    "### b) Hur stor andel har normala, över normala och långt över normala kolesterolvärden? Rita ett tårtdiagram."
   ]
  },
  {
   "cell_type": "code",
   "execution_count": 329,
   "metadata": {},
   "outputs": [
    {
     "data": {
      "text/plain": [
       "normal               52385\n",
       "above normal          9549\n",
       "well above normal     8066\n",
       "Name: cholesterol, dtype: int64"
      ]
     },
     "execution_count": 329,
     "metadata": {},
     "output_type": "execute_result"
    }
   ],
   "source": [
    "cholestrol = df['cholesterol'].value_counts()\n",
    "cholestrol"
   ]
  },
  {
   "attachments": {},
   "cell_type": "markdown",
   "metadata": {},
   "source": [
    "##### percentage = count of individual / total count"
   ]
  },
  {
   "cell_type": "code",
   "execution_count": 330,
   "metadata": {},
   "outputs": [
    {
     "data": {
      "text/plain": [
       "70000"
      ]
     },
     "execution_count": 330,
     "metadata": {},
     "output_type": "execute_result"
    }
   ],
   "source": [
    "df.shape[0] # total number of persons"
   ]
  },
  {
   "cell_type": "code",
   "execution_count": 331,
   "metadata": {},
   "outputs": [
    {
     "data": {
      "text/plain": [
       "normal               74.835714\n",
       "above normal         13.641429\n",
       "well above normal    11.522857\n",
       "Name: cholesterol, dtype: float64"
      ]
     },
     "execution_count": 331,
     "metadata": {},
     "output_type": "execute_result"
    }
   ],
   "source": [
    "percentage_of_cholestrol= (cholestrol/df.shape[0])*100\n",
    "percentage_of_cholestrol\n"
   ]
  },
  {
   "cell_type": "code",
   "execution_count": 332,
   "metadata": {},
   "outputs": [
    {
     "data": {
      "image/png": "[encoded data removed]",
      "text/plain": [
       "<Figure size 640x480 with 1 Axes>"
      ]
     },
     "metadata": {},
     "output_type": "display_data"
    }
   ],
   "source": [
    "plt.pie(cholestrol.values, labels = cholestrol.index, autopct='%.1f%%',explode= (0,0.2,0.2), colors=['green','blue','red'])\n",
    "plt.title('The percentage of cholesterol values in the data')\n",
    "plt.show()"
   ]
  },
  {
   "attachments": {},
   "cell_type": "markdown",
   "metadata": {},
   "source": [
    "### c) Hur ser åldersfördelningen ut? Rita ett histogram."
   ]
  },
  {
   "cell_type": "code",
   "execution_count": 333,
   "metadata": {},
   "outputs": [
    {
     "data": {
      "text/plain": [
       "array([50., 55., 52., 48., 60., 61., 62., 54., 41., 40., 46., 58., 59.,\n",
       "       63., 64., 57., 56., 49., 51., 44., 65., 45., 53., 47., 42., 39.,\n",
       "       43., 30.])"
      ]
     },
     "execution_count": 333,
     "metadata": {},
     "output_type": "execute_result"
    }
   ],
   "source": [
    "df['age'].unique()"
   ]
  },
  {
   "cell_type": "code",
   "execution_count": 334,
   "metadata": {},
   "outputs": [
    {
     "data": {
      "image/png": "[encoded data removed]",
      "text/plain": [
       "<Figure size 640x480 with 1 Axes>"
      ]
     },
     "metadata": {},
     "output_type": "display_data"
    }
   ],
   "source": [
    "df['age'].hist(color='b')\n",
    "plt.xlabel('Age')\n",
    "plt.ylabel('Number of persons')\n",
    "plt.title('Histogram plot of Age')\n",
    "plt.show()"
   ]
  },
  {
   "cell_type": "code",
   "execution_count": 335,
   "metadata": {},
   "outputs": [
    {
     "data": {
      "image/png": "[encoded data removed]",
      "text/plain": [
       "<Figure size 640x480 with 1 Axes>"
      ]
     },
     "metadata": {},
     "output_type": "display_data"
    }
   ],
   "source": [
    "sns.histplot(data=df, x=\"age\",binwidth=2)\n",
    "plt.title('Histogram plot of Age')\n",
    "plt.show()\n"
   ]
  },
  {
   "attachments": {},
   "cell_type": "markdown",
   "metadata": {},
   "source": [
    "### d) Hur stor andel röker?"
   ]
  },
  {
   "cell_type": "code",
   "execution_count": 336,
   "metadata": {},
   "outputs": [
    {
     "data": {
      "text/plain": [
       "No     63831\n",
       "Yes     6169\n",
       "Name: smoke, dtype: int64"
      ]
     },
     "execution_count": 336,
     "metadata": {},
     "output_type": "execute_result"
    }
   ],
   "source": [
    "smoking_counts= df['smoke'].value_counts()\n",
    "smoking_counts"
   ]
  },
  {
   "cell_type": "code",
   "execution_count": 337,
   "metadata": {},
   "outputs": [
    {
     "data": {
      "text/plain": [
       "No     0.911871\n",
       "Yes    0.088129\n",
       "Name: smoke, dtype: float64"
      ]
     },
     "execution_count": 337,
     "metadata": {},
     "output_type": "execute_result"
    }
   ],
   "source": [
    "percentage_of_smoking= smoking_counts/df.shape[0]\n",
    "percentage_of_smoking"
   ]
  },
  {
   "attachments": {},
   "cell_type": "markdown",
   "metadata": {},
   "source": [
    "### e) Hur ser viktfördelningen ut? Rita lämpligt diagram."
   ]
  },
  {
   "cell_type": "code",
   "execution_count": 338,
   "metadata": {},
   "outputs": [
    {
     "data": {
      "image/png": "[encoded data removed]",
      "text/plain": [
       "<Figure size 640x480 with 1 Axes>"
      ]
     },
     "metadata": {},
     "output_type": "display_data"
    }
   ],
   "source": [
    "sns.histplot(df['weight'], bins=20, kde= True, color='g')\n",
    "plt.xlabel('Weight (kg)')\n",
    "plt.ylabel('Number of persons')\n",
    "plt.title('Weight distribution')\n",
    "plt.show()"
   ]
  },
  {
   "attachments": {},
   "cell_type": "markdown",
   "metadata": {},
   "source": [
    "### f) Hur ser längdfördelningen ut? Rita lämpligt diagram"
   ]
  },
  {
   "cell_type": "code",
   "execution_count": 339,
   "metadata": {},
   "outputs": [
    {
     "data": {
      "image/png": "[encoded data removed]",
      "text/plain": [
       "<Figure size 640x480 with 1 Axes>"
      ]
     },
     "metadata": {},
     "output_type": "display_data"
    }
   ],
   "source": [
    "sns.histplot(df['height'], bins=40, kde= True, color='blue')\n",
    "plt.xlabel('Height (cm)')\n",
    "plt.ylabel('Number of persons')\n",
    "plt.title('Height distribution ')\n",
    "plt.show()"
   ]
  },
  {
   "attachments": {},
   "cell_type": "markdown",
   "metadata": {},
   "source": [
    "### g) Hur stor andel av kvinnor respektive män har hjärt-kärlsjukdom? Rita lämpligt diagram"
   ]
  },
  {
   "cell_type": "code",
   "execution_count": 340,
   "metadata": {},
   "outputs": [
    {
     "data": {
      "text/plain": [
       "Women    0.646559\n",
       "Men      0.353441\n",
       "Name: gender, dtype: float64"
      ]
     },
     "execution_count": 340,
     "metadata": {},
     "output_type": "execute_result"
    }
   ],
   "source": [
    "df_stroke= df.query('cardio== \"Yes\"')\n",
    "gender_count=df_stroke['gender'].value_counts()\n",
    "proportion_of_gender= gender_count/df_stroke.shape[0]\n",
    "proportion_of_gender"
   ]
  },
  {
   "cell_type": "code",
   "execution_count": 341,
   "metadata": {},
   "outputs": [
    {
     "data": {
      "image/png": "[encoded data removed]",
      "text/plain": [
       "<Figure size 640x480 with 1 Axes>"
      ]
     },
     "metadata": {},
     "output_type": "display_data"
    }
   ],
   "source": [
    "proportion_of_gender.plot(kind='bar', rot=0, color='darkred')\n",
    "plt.title('The proportion of cardiovascular disease by gender ')\n",
    "plt.show()"
   ]
  },
  {
   "cell_type": "code",
   "execution_count": 342,
   "metadata": {},
   "outputs": [
    {
     "data": {
      "image/png": "[encoded data removed]",
      "text/plain": [
       "<Figure size 640x480 with 1 Axes>"
      ]
     },
     "metadata": {},
     "output_type": "display_data"
    }
   ],
   "source": [
    "plt.pie(proportion_of_gender.values, labels = proportion_of_gender.index, autopct='%1.1f%%',explode= (0,0.2))\n",
    "plt.title('The percentage of cardiovascular disease by gender ')\n",
    "plt.show()"
   ]
  },
  {
   "attachments": {},
   "cell_type": "markdown",
   "metadata": {},
   "source": [
    "# 2.1.0 - Feature engineering BMI\n",
    "Skapa en feature för BMI (Body Mass Index), läs på om formeln på wikipedia.\n"
   ]
  },
  {
   "attachments": {},
   "cell_type": "markdown",
   "metadata": {},
   "source": [
    "Body mass index (BMI): \n",
    " - BMI = weight / height^2, where weight is in kilograms and height is in meters. \n",
    "\n",
    "Data frame weight in kg and height in cm, so we can covert to meters by 1m = 100 cm"
   ]
  },
  {
   "cell_type": "code",
   "execution_count": 343,
   "metadata": {},
   "outputs": [
    {
     "data": {
      "text/html": [
       "<div>\n",
       "<style scoped>\n",
       "    .dataframe tbody tr th:only-of-type {\n",
       "        vertical-align: middle;\n",
       "    }\n",
       "\n",
       "    .dataframe tbody tr th {\n",
       "        vertical-align: top;\n",
       "    }\n",
       "\n",
       "    .dataframe thead th {\n",
       "        text-align: right;\n",
       "    }\n",
       "</style>\n",
       "<table border=\"1\" class=\"dataframe\">\n",
       "  <thead>\n",
       "    <tr style=\"text-align: right;\">\n",
       "      <th></th>\n",
       "      <th>id</th>\n",
       "      <th>age</th>\n",
       "      <th>gender</th>\n",
       "      <th>height</th>\n",
       "      <th>weight</th>\n",
       "      <th>ap_hi</th>\n",
       "      <th>ap_lo</th>\n",
       "      <th>cholesterol</th>\n",
       "      <th>gluc</th>\n",
       "      <th>smoke</th>\n",
       "      <th>alco</th>\n",
       "      <th>active</th>\n",
       "      <th>cardio</th>\n",
       "      <th>BMI</th>\n",
       "    </tr>\n",
       "  </thead>\n",
       "  <tbody>\n",
       "    <tr>\n",
       "      <th>0</th>\n",
       "      <td>0</td>\n",
       "      <td>50.0</td>\n",
       "      <td>Men</td>\n",
       "      <td>168</td>\n",
       "      <td>62.0</td>\n",
       "      <td>110</td>\n",
       "      <td>80</td>\n",
       "      <td>1</td>\n",
       "      <td>1</td>\n",
       "      <td>0</td>\n",
       "      <td>0</td>\n",
       "      <td>1</td>\n",
       "      <td>0</td>\n",
       "      <td>22.0</td>\n",
       "    </tr>\n",
       "    <tr>\n",
       "      <th>1</th>\n",
       "      <td>1</td>\n",
       "      <td>55.0</td>\n",
       "      <td>Women</td>\n",
       "      <td>156</td>\n",
       "      <td>85.0</td>\n",
       "      <td>140</td>\n",
       "      <td>90</td>\n",
       "      <td>3</td>\n",
       "      <td>1</td>\n",
       "      <td>0</td>\n",
       "      <td>0</td>\n",
       "      <td>1</td>\n",
       "      <td>1</td>\n",
       "      <td>34.9</td>\n",
       "    </tr>\n",
       "    <tr>\n",
       "      <th>2</th>\n",
       "      <td>2</td>\n",
       "      <td>52.0</td>\n",
       "      <td>Women</td>\n",
       "      <td>165</td>\n",
       "      <td>64.0</td>\n",
       "      <td>130</td>\n",
       "      <td>70</td>\n",
       "      <td>3</td>\n",
       "      <td>1</td>\n",
       "      <td>0</td>\n",
       "      <td>0</td>\n",
       "      <td>0</td>\n",
       "      <td>1</td>\n",
       "      <td>23.5</td>\n",
       "    </tr>\n",
       "    <tr>\n",
       "      <th>3</th>\n",
       "      <td>3</td>\n",
       "      <td>48.0</td>\n",
       "      <td>Men</td>\n",
       "      <td>169</td>\n",
       "      <td>82.0</td>\n",
       "      <td>150</td>\n",
       "      <td>100</td>\n",
       "      <td>1</td>\n",
       "      <td>1</td>\n",
       "      <td>0</td>\n",
       "      <td>0</td>\n",
       "      <td>1</td>\n",
       "      <td>1</td>\n",
       "      <td>28.7</td>\n",
       "    </tr>\n",
       "    <tr>\n",
       "      <th>4</th>\n",
       "      <td>4</td>\n",
       "      <td>48.0</td>\n",
       "      <td>Women</td>\n",
       "      <td>156</td>\n",
       "      <td>56.0</td>\n",
       "      <td>100</td>\n",
       "      <td>60</td>\n",
       "      <td>1</td>\n",
       "      <td>1</td>\n",
       "      <td>0</td>\n",
       "      <td>0</td>\n",
       "      <td>0</td>\n",
       "      <td>0</td>\n",
       "      <td>23.0</td>\n",
       "    </tr>\n",
       "  </tbody>\n",
       "</table>\n",
       "</div>"
      ],
      "text/plain": [
       "   id   age gender  height  weight  ap_hi  ap_lo  cholesterol  gluc  smoke  \\\n",
       "0   0  50.0    Men     168    62.0    110     80            1     1      0   \n",
       "1   1  55.0  Women     156    85.0    140     90            3     1      0   \n",
       "2   2  52.0  Women     165    64.0    130     70            3     1      0   \n",
       "3   3  48.0    Men     169    82.0    150    100            1     1      0   \n",
       "4   4  48.0  Women     156    56.0    100     60            1     1      0   \n",
       "\n",
       "   alco  active  cardio   BMI  \n",
       "0     0       1       0  22.0  \n",
       "1     0       1       1  34.9  \n",
       "2     0       0       1  23.5  \n",
       "3     0       1       1  28.7  \n",
       "4     0       0       0  23.0  "
      ]
     },
     "execution_count": 343,
     "metadata": {},
     "output_type": "execute_result"
    }
   ],
   "source": [
    "# calculate BMI of each person in  tha data\n",
    "data['BMI'] = data['weight']/(data['height']/100)**2\n",
    "data['BMI']= round(data['BMI'],1)\n",
    "data.head()"
   ]
  },
  {
   "cell_type": "code",
   "execution_count": 344,
   "metadata": {},
   "outputs": [
    {
     "data": {
      "image/png": "[encoded data removed]",
      "text/plain": [
       "<Figure size 640x480 with 1 Axes>"
      ]
     },
     "metadata": {},
     "output_type": "display_data"
    }
   ],
   "source": [
    "\n",
    "plt.boxplot(data['BMI']);\n",
    "plt.title('Unreasonable BMI with outliers')\n",
    "plt.xlabel('BMI')\n",
    "plt.show()"
   ]
  },
  {
   "attachments": {},
   "cell_type": "markdown",
   "metadata": {},
   "source": [
    "##### a) Släng de samples med orimliga BMIer och outliers. Notera att detta kan vara svårt att avgöra i vilket range av BMIer som vi ska spara. Beskriv hur du kommer fram till gränserna.\n"
   ]
  },
  {
   "attachments": {},
   "cell_type": "markdown",
   "metadata": {},
   "source": [
    "- The WHO defines a healthy BMI range as between 18.5 and 24.9 kg/m^2.So any BMI values outside of this range can be considered as unreasonable and should be removed from the dataset.\n",
    "\n",
    "- We should identify outliers using a method such as the Tukey method, which defines outliers as values that are more than 1.5 times the interquartile range (IQR) below the first quartile or above the third quartile.\n",
    "\n",
    "  Now remove the outliers in data.  # from exercise 4: 0(f)\n",
    "  - Lower bound outlier: $Q_1 - 1.5\\cdot IQR$\n",
    "  - Upper bound outlier: $Q_3 + 1.5\\cdot IQR$\n",
    "\n",
    "  where $Q_1$ is the 1st quartile or 25 percentile, $Q_3$ is the 3rd quartile or 75 percentile and $IQR = Q_3-Q_1$ is the interquartile range. "
   ]
  },
  {
   "cell_type": "code",
   "execution_count": 345,
   "metadata": {},
   "outputs": [
    {
     "data": {
      "text/plain": [
       "array([22. , 23.5, 23. , 20. , 20.8, 21.3, 18.5, 24.2, 24. , 24.9, 23.7,\n",
       "       20.7, 21.5, 23.6, 21.1, 24.4, 22.9, 23.9, 23.8, 19.4, 22.6, 21.2,\n",
       "       20.9, 22.3, 20.1, 22.8, 22.5, 21.4, 24.7, 20.2, 20.3, 23.4, 22.4,\n",
       "       21.6, 23.2, 19.3, 24.6, 18.6, 24.3, 21. , 24.1, 24.5, 20.5, 22.7,\n",
       "       21.7, 24.8, 20.4, 19. , 21.8, 21.9, 23.1, 18.7, 23.3, 22.1, 19.2,\n",
       "       22.2, 19.6, 18.9, 20.6, 19.5, 19.1, 19.8, 19.7, 19.9, 18.8])"
      ]
     },
     "execution_count": 345,
     "metadata": {},
     "output_type": "execute_result"
    }
   ],
   "source": [
    "#min_BMI = 18.5 and max_BMI= 24.9 - Normal range\n",
    "\n",
    "# Reasonable BMI must be in range\n",
    "reasonable_BMI = data.query('BMI >= 18.5 & BMI <= 24.9')\n",
    "reasonable_BMI['BMI'].unique() # In range"
   ]
  },
  {
   "cell_type": "code",
   "execution_count": 346,
   "metadata": {},
   "outputs": [
    {
     "data": {
      "text/html": [
       "<div>\n",
       "<style scoped>\n",
       "    .dataframe tbody tr th:only-of-type {\n",
       "        vertical-align: middle;\n",
       "    }\n",
       "\n",
       "    .dataframe tbody tr th {\n",
       "        vertical-align: top;\n",
       "    }\n",
       "\n",
       "    .dataframe thead th {\n",
       "        text-align: right;\n",
       "    }\n",
       "</style>\n",
       "<table border=\"1\" class=\"dataframe\">\n",
       "  <thead>\n",
       "    <tr style=\"text-align: right;\">\n",
       "      <th></th>\n",
       "      <th>id</th>\n",
       "      <th>age</th>\n",
       "      <th>gender</th>\n",
       "      <th>height</th>\n",
       "      <th>weight</th>\n",
       "      <th>ap_hi</th>\n",
       "      <th>ap_lo</th>\n",
       "      <th>cholesterol</th>\n",
       "      <th>gluc</th>\n",
       "      <th>smoke</th>\n",
       "      <th>alco</th>\n",
       "      <th>active</th>\n",
       "      <th>cardio</th>\n",
       "      <th>BMI</th>\n",
       "    </tr>\n",
       "  </thead>\n",
       "  <tbody>\n",
       "    <tr>\n",
       "      <th>0</th>\n",
       "      <td>0</td>\n",
       "      <td>50.0</td>\n",
       "      <td>Men</td>\n",
       "      <td>168</td>\n",
       "      <td>62.0</td>\n",
       "      <td>110</td>\n",
       "      <td>80</td>\n",
       "      <td>1</td>\n",
       "      <td>1</td>\n",
       "      <td>0</td>\n",
       "      <td>0</td>\n",
       "      <td>1</td>\n",
       "      <td>0</td>\n",
       "      <td>22.0</td>\n",
       "    </tr>\n",
       "    <tr>\n",
       "      <th>2</th>\n",
       "      <td>2</td>\n",
       "      <td>52.0</td>\n",
       "      <td>Women</td>\n",
       "      <td>165</td>\n",
       "      <td>64.0</td>\n",
       "      <td>130</td>\n",
       "      <td>70</td>\n",
       "      <td>3</td>\n",
       "      <td>1</td>\n",
       "      <td>0</td>\n",
       "      <td>0</td>\n",
       "      <td>0</td>\n",
       "      <td>1</td>\n",
       "      <td>23.5</td>\n",
       "    </tr>\n",
       "    <tr>\n",
       "      <th>4</th>\n",
       "      <td>4</td>\n",
       "      <td>48.0</td>\n",
       "      <td>Women</td>\n",
       "      <td>156</td>\n",
       "      <td>56.0</td>\n",
       "      <td>100</td>\n",
       "      <td>60</td>\n",
       "      <td>1</td>\n",
       "      <td>1</td>\n",
       "      <td>0</td>\n",
       "      <td>0</td>\n",
       "      <td>0</td>\n",
       "      <td>0</td>\n",
       "      <td>23.0</td>\n",
       "    </tr>\n",
       "    <tr>\n",
       "      <th>11</th>\n",
       "      <td>16</td>\n",
       "      <td>52.0</td>\n",
       "      <td>Men</td>\n",
       "      <td>173</td>\n",
       "      <td>60.0</td>\n",
       "      <td>120</td>\n",
       "      <td>80</td>\n",
       "      <td>1</td>\n",
       "      <td>1</td>\n",
       "      <td>0</td>\n",
       "      <td>0</td>\n",
       "      <td>1</td>\n",
       "      <td>0</td>\n",
       "      <td>20.0</td>\n",
       "    </tr>\n",
       "    <tr>\n",
       "      <th>12</th>\n",
       "      <td>18</td>\n",
       "      <td>41.0</td>\n",
       "      <td>Men</td>\n",
       "      <td>165</td>\n",
       "      <td>60.0</td>\n",
       "      <td>120</td>\n",
       "      <td>80</td>\n",
       "      <td>1</td>\n",
       "      <td>1</td>\n",
       "      <td>0</td>\n",
       "      <td>0</td>\n",
       "      <td>0</td>\n",
       "      <td>0</td>\n",
       "      <td>22.0</td>\n",
       "    </tr>\n",
       "  </tbody>\n",
       "</table>\n",
       "</div>"
      ],
      "text/plain": [
       "    id   age gender  height  weight  ap_hi  ap_lo  cholesterol  gluc  smoke  \\\n",
       "0    0  50.0    Men     168    62.0    110     80            1     1      0   \n",
       "2    2  52.0  Women     165    64.0    130     70            3     1      0   \n",
       "4    4  48.0  Women     156    56.0    100     60            1     1      0   \n",
       "11  16  52.0    Men     173    60.0    120     80            1     1      0   \n",
       "12  18  41.0    Men     165    60.0    120     80            1     1      0   \n",
       "\n",
       "    alco  active  cardio   BMI  \n",
       "0      0       1       0  22.0  \n",
       "2      0       0       1  23.5  \n",
       "4      0       0       0  23.0  \n",
       "11     0       1       0  20.0  \n",
       "12     0       0       0  22.0  "
      ]
     },
     "execution_count": 346,
     "metadata": {},
     "output_type": "execute_result"
    }
   ],
   "source": [
    "#  using Tukey method dentify  outliers\n",
    "Q1 = reasonable_BMI['BMI'].quantile(0.25)\n",
    "Q3 = reasonable_BMI['BMI'].quantile(0.75)\n",
    "IQR = Q3 - Q1\n",
    "lower_bound = Q1 - 1.5 * IQR\n",
    "upper_bound = Q3 + 1.5 * IQR\n",
    "outliers = (reasonable_BMI['BMI'] < lower_bound) | (reasonable_BMI['BMI'] > upper_bound)\n",
    "\n",
    "# removie outliers from reasonable data\n",
    "df_cleaned = reasonable_BMI[~outliers]\n",
    "df_cleaned.head()"
   ]
  },
  {
   "cell_type": "code",
   "execution_count": 347,
   "metadata": {},
   "outputs": [
    {
     "data": {
      "image/png": "[encoded data removed]",
      "text/plain": [
       "<Figure size 640x480 with 1 Axes>"
      ]
     },
     "metadata": {},
     "output_type": "display_data"
    }
   ],
   "source": [
    "plt.boxplot(df_cleaned['BMI']); \n",
    "plt.title('reasonable BMI with no outliers')\n",
    "plt.xlabel('BMI')\n",
    "plt.show()"
   ]
  },
  {
   "attachments": {},
   "cell_type": "markdown",
   "metadata": {},
   "source": [
    "##### b) Skapa en kategorisk BMI-feature med kategorierna: normal range, overweight, obese (class I), obese(class II), obese (class III)."
   ]
  },
  {
   "attachments": {},
   "cell_type": "markdown",
   "metadata": {},
   "source": [
    "To create a categorical BMI feature with the categories: underweight,normal range, overweight, obese (class I), obese (class II), and obese (class III)   https://en.wikipedia.org/wiki/Body_mass_index\n",
    "\n",
    "- underweight: BMI < 18.5 kg/m^2 \n",
    "- normal weight: 18.5 kg/m^2 ≤ BMI ≤ 24.9 kg/m^2\n",
    "- overweight: 25 kg/m^2 ≤ BMI ≤ 29.9 kg/m^2\n",
    "- obesity class I: 30 kg/m^2 ≤ BMI ≤ 34.9 kg/m^2 \n",
    "- obesity class II: 35 kg/m^2 ≤ BMI ≤ 39.9 kg/m^2 \n",
    "- obesity class III. BMI ≥ 40 kg/m^2 "
   ]
  },
  {
   "cell_type": "code",
   "execution_count": 348,
   "metadata": {},
   "outputs": [
    {
     "data": {
      "text/html": [
       "<div>\n",
       "<style scoped>\n",
       "    .dataframe tbody tr th:only-of-type {\n",
       "        vertical-align: middle;\n",
       "    }\n",
       "\n",
       "    .dataframe tbody tr th {\n",
       "        vertical-align: top;\n",
       "    }\n",
       "\n",
       "    .dataframe thead th {\n",
       "        text-align: right;\n",
       "    }\n",
       "</style>\n",
       "<table border=\"1\" class=\"dataframe\">\n",
       "  <thead>\n",
       "    <tr style=\"text-align: right;\">\n",
       "      <th></th>\n",
       "      <th>id</th>\n",
       "      <th>age</th>\n",
       "      <th>gender</th>\n",
       "      <th>height</th>\n",
       "      <th>weight</th>\n",
       "      <th>ap_hi</th>\n",
       "      <th>ap_lo</th>\n",
       "      <th>cholesterol</th>\n",
       "      <th>gluc</th>\n",
       "      <th>smoke</th>\n",
       "      <th>alco</th>\n",
       "      <th>active</th>\n",
       "      <th>cardio</th>\n",
       "      <th>BMI</th>\n",
       "      <th>BMI_category</th>\n",
       "    </tr>\n",
       "  </thead>\n",
       "  <tbody>\n",
       "    <tr>\n",
       "      <th>0</th>\n",
       "      <td>0</td>\n",
       "      <td>50.0</td>\n",
       "      <td>Men</td>\n",
       "      <td>168</td>\n",
       "      <td>62.0</td>\n",
       "      <td>110</td>\n",
       "      <td>80</td>\n",
       "      <td>1</td>\n",
       "      <td>1</td>\n",
       "      <td>0</td>\n",
       "      <td>0</td>\n",
       "      <td>1</td>\n",
       "      <td>0</td>\n",
       "      <td>22.0</td>\n",
       "      <td>normal range</td>\n",
       "    </tr>\n",
       "    <tr>\n",
       "      <th>1</th>\n",
       "      <td>1</td>\n",
       "      <td>55.0</td>\n",
       "      <td>Women</td>\n",
       "      <td>156</td>\n",
       "      <td>85.0</td>\n",
       "      <td>140</td>\n",
       "      <td>90</td>\n",
       "      <td>3</td>\n",
       "      <td>1</td>\n",
       "      <td>0</td>\n",
       "      <td>0</td>\n",
       "      <td>1</td>\n",
       "      <td>1</td>\n",
       "      <td>34.9</td>\n",
       "      <td>obese (class I)</td>\n",
       "    </tr>\n",
       "    <tr>\n",
       "      <th>2</th>\n",
       "      <td>2</td>\n",
       "      <td>52.0</td>\n",
       "      <td>Women</td>\n",
       "      <td>165</td>\n",
       "      <td>64.0</td>\n",
       "      <td>130</td>\n",
       "      <td>70</td>\n",
       "      <td>3</td>\n",
       "      <td>1</td>\n",
       "      <td>0</td>\n",
       "      <td>0</td>\n",
       "      <td>0</td>\n",
       "      <td>1</td>\n",
       "      <td>23.5</td>\n",
       "      <td>normal range</td>\n",
       "    </tr>\n",
       "    <tr>\n",
       "      <th>3</th>\n",
       "      <td>3</td>\n",
       "      <td>48.0</td>\n",
       "      <td>Men</td>\n",
       "      <td>169</td>\n",
       "      <td>82.0</td>\n",
       "      <td>150</td>\n",
       "      <td>100</td>\n",
       "      <td>1</td>\n",
       "      <td>1</td>\n",
       "      <td>0</td>\n",
       "      <td>0</td>\n",
       "      <td>1</td>\n",
       "      <td>1</td>\n",
       "      <td>28.7</td>\n",
       "      <td>overweight</td>\n",
       "    </tr>\n",
       "    <tr>\n",
       "      <th>4</th>\n",
       "      <td>4</td>\n",
       "      <td>48.0</td>\n",
       "      <td>Women</td>\n",
       "      <td>156</td>\n",
       "      <td>56.0</td>\n",
       "      <td>100</td>\n",
       "      <td>60</td>\n",
       "      <td>1</td>\n",
       "      <td>1</td>\n",
       "      <td>0</td>\n",
       "      <td>0</td>\n",
       "      <td>0</td>\n",
       "      <td>0</td>\n",
       "      <td>23.0</td>\n",
       "      <td>normal range</td>\n",
       "    </tr>\n",
       "  </tbody>\n",
       "</table>\n",
       "</div>"
      ],
      "text/plain": [
       "   id   age gender  height  weight  ap_hi  ap_lo  cholesterol  gluc  smoke  \\\n",
       "0   0  50.0    Men     168    62.0    110     80            1     1      0   \n",
       "1   1  55.0  Women     156    85.0    140     90            3     1      0   \n",
       "2   2  52.0  Women     165    64.0    130     70            3     1      0   \n",
       "3   3  48.0    Men     169    82.0    150    100            1     1      0   \n",
       "4   4  48.0  Women     156    56.0    100     60            1     1      0   \n",
       "\n",
       "   alco  active  cardio   BMI     BMI_category  \n",
       "0     0       1       0  22.0     normal range  \n",
       "1     0       1       1  34.9  obese (class I)  \n",
       "2     0       0       1  23.5     normal range  \n",
       "3     0       1       1  28.7       overweight  \n",
       "4     0       0       0  23.0     normal range  "
      ]
     },
     "execution_count": 348,
     "metadata": {},
     "output_type": "execute_result"
    }
   ],
   "source": [
    " # function define categorical BMI\n",
    "def categorical_BMI(BMI):\n",
    "    if BMI < 18.5:\n",
    "        return 'underweight'\n",
    "    elif 18.5 <= BMI <= 24.9:\n",
    "        return 'normal range'\n",
    "    elif 25 <= BMI <= 29.9:\n",
    "        return 'overweight'\n",
    "    elif 30 <= BMI <= 34.9:\n",
    "        return 'obese (class I)'\n",
    "    elif 35 <= BMI <= 39.9:\n",
    "        return 'obese (class II)'\n",
    "    else:\n",
    "        return 'obese (class III)'\n",
    "    \n",
    "data['BMI_category'] = data['BMI'].apply(categorical_BMI)\n",
    "data.head()"
   ]
  },
  {
   "attachments": {},
   "cell_type": "markdown",
   "metadata": {},
   "source": [
    "# 2.1.1 - Feature engineering blodtryck\n",
    "Släng bort samples med orimliga blodtryck och outliers. Likt uppgift 2.1.0 är det inte trivialt att sätta\n",
    "gränserna. Skapa en feature för blodtryckskategorier enligt tabellen i denna artikel. Beskriv hur du kommer\n",
    "fram till gränserna."
   ]
  },
  {
   "cell_type": "code",
   "execution_count": 349,
   "metadata": {},
   "outputs": [
    {
     "data": {
      "text/html": [
       "<div>\n",
       "<style scoped>\n",
       "    .dataframe tbody tr th:only-of-type {\n",
       "        vertical-align: middle;\n",
       "    }\n",
       "\n",
       "    .dataframe tbody tr th {\n",
       "        vertical-align: top;\n",
       "    }\n",
       "\n",
       "    .dataframe thead th {\n",
       "        text-align: right;\n",
       "    }\n",
       "</style>\n",
       "<table border=\"1\" class=\"dataframe\">\n",
       "  <thead>\n",
       "    <tr style=\"text-align: right;\">\n",
       "      <th></th>\n",
       "      <th>id</th>\n",
       "      <th>age</th>\n",
       "      <th>gender</th>\n",
       "      <th>height</th>\n",
       "      <th>weight</th>\n",
       "      <th>ap_hi</th>\n",
       "      <th>ap_lo</th>\n",
       "      <th>cholesterol</th>\n",
       "      <th>gluc</th>\n",
       "      <th>smoke</th>\n",
       "      <th>alco</th>\n",
       "      <th>active</th>\n",
       "      <th>cardio</th>\n",
       "      <th>BMI</th>\n",
       "      <th>BMI_category</th>\n",
       "    </tr>\n",
       "  </thead>\n",
       "  <tbody>\n",
       "    <tr>\n",
       "      <th>0</th>\n",
       "      <td>0</td>\n",
       "      <td>50.0</td>\n",
       "      <td>Men</td>\n",
       "      <td>168</td>\n",
       "      <td>62.0</td>\n",
       "      <td>110</td>\n",
       "      <td>80</td>\n",
       "      <td>1</td>\n",
       "      <td>1</td>\n",
       "      <td>0</td>\n",
       "      <td>0</td>\n",
       "      <td>1</td>\n",
       "      <td>0</td>\n",
       "      <td>22.0</td>\n",
       "      <td>normal range</td>\n",
       "    </tr>\n",
       "    <tr>\n",
       "      <th>1</th>\n",
       "      <td>1</td>\n",
       "      <td>55.0</td>\n",
       "      <td>Women</td>\n",
       "      <td>156</td>\n",
       "      <td>85.0</td>\n",
       "      <td>140</td>\n",
       "      <td>90</td>\n",
       "      <td>3</td>\n",
       "      <td>1</td>\n",
       "      <td>0</td>\n",
       "      <td>0</td>\n",
       "      <td>1</td>\n",
       "      <td>1</td>\n",
       "      <td>34.9</td>\n",
       "      <td>obese (class I)</td>\n",
       "    </tr>\n",
       "    <tr>\n",
       "      <th>2</th>\n",
       "      <td>2</td>\n",
       "      <td>52.0</td>\n",
       "      <td>Women</td>\n",
       "      <td>165</td>\n",
       "      <td>64.0</td>\n",
       "      <td>130</td>\n",
       "      <td>70</td>\n",
       "      <td>3</td>\n",
       "      <td>1</td>\n",
       "      <td>0</td>\n",
       "      <td>0</td>\n",
       "      <td>0</td>\n",
       "      <td>1</td>\n",
       "      <td>23.5</td>\n",
       "      <td>normal range</td>\n",
       "    </tr>\n",
       "    <tr>\n",
       "      <th>3</th>\n",
       "      <td>3</td>\n",
       "      <td>48.0</td>\n",
       "      <td>Men</td>\n",
       "      <td>169</td>\n",
       "      <td>82.0</td>\n",
       "      <td>150</td>\n",
       "      <td>100</td>\n",
       "      <td>1</td>\n",
       "      <td>1</td>\n",
       "      <td>0</td>\n",
       "      <td>0</td>\n",
       "      <td>1</td>\n",
       "      <td>1</td>\n",
       "      <td>28.7</td>\n",
       "      <td>overweight</td>\n",
       "    </tr>\n",
       "    <tr>\n",
       "      <th>4</th>\n",
       "      <td>4</td>\n",
       "      <td>48.0</td>\n",
       "      <td>Women</td>\n",
       "      <td>156</td>\n",
       "      <td>56.0</td>\n",
       "      <td>100</td>\n",
       "      <td>60</td>\n",
       "      <td>1</td>\n",
       "      <td>1</td>\n",
       "      <td>0</td>\n",
       "      <td>0</td>\n",
       "      <td>0</td>\n",
       "      <td>0</td>\n",
       "      <td>23.0</td>\n",
       "      <td>normal range</td>\n",
       "    </tr>\n",
       "  </tbody>\n",
       "</table>\n",
       "</div>"
      ],
      "text/plain": [
       "   id   age gender  height  weight  ap_hi  ap_lo  cholesterol  gluc  smoke  \\\n",
       "0   0  50.0    Men     168    62.0    110     80            1     1      0   \n",
       "1   1  55.0  Women     156    85.0    140     90            3     1      0   \n",
       "2   2  52.0  Women     165    64.0    130     70            3     1      0   \n",
       "3   3  48.0    Men     169    82.0    150    100            1     1      0   \n",
       "4   4  48.0  Women     156    56.0    100     60            1     1      0   \n",
       "\n",
       "   alco  active  cardio   BMI     BMI_category  \n",
       "0     0       1       0  22.0     normal range  \n",
       "1     0       1       1  34.9  obese (class I)  \n",
       "2     0       0       1  23.5     normal range  \n",
       "3     0       1       1  28.7       overweight  \n",
       "4     0       0       0  23.0     normal range  "
      ]
     },
     "execution_count": 349,
     "metadata": {},
     "output_type": "execute_result"
    }
   ],
   "source": [
    "data.head()"
   ]
  },
  {
   "cell_type": "code",
   "execution_count": 350,
   "metadata": {},
   "outputs": [
    {
     "data": {
      "image/png": "[encoded data removed]",
      "text/plain": [
       "<Figure size 1400x500 with 2 Axes>"
      ]
     },
     "metadata": {},
     "output_type": "display_data"
    }
   ],
   "source": [
    "fig, ax = plt.subplots(1, 2, figsize=(14, 5))\n",
    "\n",
    "ax[0].boxplot(data['ap_hi'])\n",
    "ax[0].set_title('Unreasonable Systolic blood pressure(ap_hi) with outliers')\n",
    "ax[0].set_xlabel('Systolic blood pressure(ap_hi)')\n",
    "\n",
    "ax[1].boxplot(data['ap_lo'])\n",
    "ax[1].set_title('Unreasonable Diastolic blood pressure(ap_lo) with outliers')\n",
    "ax[1].set_xlabel('Diastolic blood pressure(ap_lo)')\n",
    "\n",
    "plt.show()\n"
   ]
  },
  {
   "attachments": {},
   "cell_type": "markdown",
   "metadata": {},
   "source": [
    "##### Blood Pressure:https://en.wikipedia.org/wiki/Blood_pressure\n",
    "\n",
    "Blood pressure is the force that the blood exerts on the walls of the arteries as it flows through them. It is typically measured in millimeters of mercury (mmHg) and consists of two values: systolic blood pressure (the pressure in the arteries when the heart beats) and diastolic blood pressure (the pressure in the arteries when the heart is resting between beats).\n",
    "\n",
    "\n"
   ]
  },
  {
   "cell_type": "code",
   "execution_count": 351,
   "metadata": {},
   "outputs": [
    {
     "data": {
      "text/html": [
       "<div>\n",
       "<style scoped>\n",
       "    .dataframe tbody tr th:only-of-type {\n",
       "        vertical-align: middle;\n",
       "    }\n",
       "\n",
       "    .dataframe tbody tr th {\n",
       "        vertical-align: top;\n",
       "    }\n",
       "\n",
       "    .dataframe thead th {\n",
       "        text-align: right;\n",
       "    }\n",
       "</style>\n",
       "<table border=\"1\" class=\"dataframe\">\n",
       "  <thead>\n",
       "    <tr style=\"text-align: right;\">\n",
       "      <th></th>\n",
       "      <th>id</th>\n",
       "      <th>age</th>\n",
       "      <th>gender</th>\n",
       "      <th>height</th>\n",
       "      <th>weight</th>\n",
       "      <th>ap_hi</th>\n",
       "      <th>ap_lo</th>\n",
       "      <th>cholesterol</th>\n",
       "      <th>gluc</th>\n",
       "      <th>smoke</th>\n",
       "      <th>alco</th>\n",
       "      <th>active</th>\n",
       "      <th>cardio</th>\n",
       "      <th>BMI</th>\n",
       "      <th>BMI_category</th>\n",
       "    </tr>\n",
       "  </thead>\n",
       "  <tbody>\n",
       "    <tr>\n",
       "      <th>0</th>\n",
       "      <td>0</td>\n",
       "      <td>50.0</td>\n",
       "      <td>Men</td>\n",
       "      <td>168</td>\n",
       "      <td>62.0</td>\n",
       "      <td>110</td>\n",
       "      <td>80</td>\n",
       "      <td>1</td>\n",
       "      <td>1</td>\n",
       "      <td>0</td>\n",
       "      <td>0</td>\n",
       "      <td>1</td>\n",
       "      <td>0</td>\n",
       "      <td>22.0</td>\n",
       "      <td>normal range</td>\n",
       "    </tr>\n",
       "  </tbody>\n",
       "</table>\n",
       "</div>"
      ],
      "text/plain": [
       "   id   age gender  height  weight  ap_hi  ap_lo  cholesterol  gluc  smoke  \\\n",
       "0   0  50.0    Men     168    62.0    110     80            1     1      0   \n",
       "\n",
       "   alco  active  cardio   BMI  BMI_category  \n",
       "0     0       1       0  22.0  normal range  "
      ]
     },
     "execution_count": 351,
     "metadata": {},
     "output_type": "execute_result"
    }
   ],
   "source": [
    "data.head(1)"
   ]
  },
  {
   "cell_type": "code",
   "execution_count": 352,
   "metadata": {},
   "outputs": [
    {
     "name": "stdout",
     "output_type": "stream",
     "text": [
      "Systolic BP (ap_hi): [110 140 130 150 100 120 145 170 135 125  90 180 160 133 190 122 169 126\n",
      " 158 200 123 161 147 115 137 153 148 105 119 141 165 164 124 172 162 117\n",
      " 134 166 210 176 116 121 112 159 113 118 155 142 131 157 136 146 138 109\n",
      " 106 129  93  95 179 156 168 132 104 103 178 175 128 151 139 127 108 144\n",
      " 102 143 107 184 149 167 114 101 181 171 202 111 188 185 163 173 154 177\n",
      " 174 191 197 152  96 199 193  99 196 207 215  97 195 187]\n",
      "Diastolic BP (ap_lo): [ 80  90  70 100  60  85  89  65  63  79  50  84  91  40  73  78  75  86\n",
      "  87  82  95  69  74  97  81  83  93  99  77  59  92  68  61  94  66  52\n",
      "  76  62  96  67  88  71  72  98  57  64  45  58  53  56  55  54  49]\n"
     ]
    }
   ],
   "source": [
    "\n",
    "#ap_hi_max = 220,  ap_hi_min= 90:Systolic BP\n",
    "# ap_lo_max= 100, ap_lo_min= 40: Diastolic BP\n",
    "\n",
    "# To filter out the negative blood pressure value\n",
    "data = data.query('ap_hi > 0 & ap_lo > 0')\n",
    " \n",
    "# Reasonable ap_hi_max must be in range\n",
    "reasonable_ap_hi = data.query('ap_hi >= 90 & ap_hi < 220')\n",
    "print('Systolic BP (ap_hi):',reasonable_ap_hi['ap_hi'].unique()) # In range: 90-120\n",
    "\n",
    "# Reasonable ap_lo_max must be in range\n",
    "reasonable_ap_lo = data.query('ap_lo >= 40 & ap_lo <= 100')\n",
    "print('Diastolic BP (ap_lo):',reasonable_ap_lo['ap_lo'].unique()) # In range: 60-80"
   ]
  },
  {
   "cell_type": "code",
   "execution_count": 353,
   "metadata": {},
   "outputs": [
    {
     "data": {
      "text/html": [
       "<div>\n",
       "<style scoped>\n",
       "    .dataframe tbody tr th:only-of-type {\n",
       "        vertical-align: middle;\n",
       "    }\n",
       "\n",
       "    .dataframe tbody tr th {\n",
       "        vertical-align: top;\n",
       "    }\n",
       "\n",
       "    .dataframe thead th {\n",
       "        text-align: right;\n",
       "    }\n",
       "</style>\n",
       "<table border=\"1\" class=\"dataframe\">\n",
       "  <thead>\n",
       "    <tr style=\"text-align: right;\">\n",
       "      <th></th>\n",
       "      <th>id</th>\n",
       "      <th>age</th>\n",
       "      <th>gender</th>\n",
       "      <th>height</th>\n",
       "      <th>weight</th>\n",
       "      <th>ap_hi</th>\n",
       "      <th>ap_lo</th>\n",
       "      <th>cholesterol</th>\n",
       "      <th>gluc</th>\n",
       "      <th>smoke</th>\n",
       "      <th>alco</th>\n",
       "      <th>active</th>\n",
       "      <th>cardio</th>\n",
       "      <th>BMI</th>\n",
       "      <th>BMI_category</th>\n",
       "    </tr>\n",
       "  </thead>\n",
       "  <tbody>\n",
       "    <tr>\n",
       "      <th>0</th>\n",
       "      <td>0</td>\n",
       "      <td>50.0</td>\n",
       "      <td>Men</td>\n",
       "      <td>168</td>\n",
       "      <td>62.0</td>\n",
       "      <td>110</td>\n",
       "      <td>80</td>\n",
       "      <td>1</td>\n",
       "      <td>1</td>\n",
       "      <td>0</td>\n",
       "      <td>0</td>\n",
       "      <td>1</td>\n",
       "      <td>0</td>\n",
       "      <td>22.0</td>\n",
       "      <td>normal range</td>\n",
       "    </tr>\n",
       "    <tr>\n",
       "      <th>1</th>\n",
       "      <td>1</td>\n",
       "      <td>55.0</td>\n",
       "      <td>Women</td>\n",
       "      <td>156</td>\n",
       "      <td>85.0</td>\n",
       "      <td>140</td>\n",
       "      <td>90</td>\n",
       "      <td>3</td>\n",
       "      <td>1</td>\n",
       "      <td>0</td>\n",
       "      <td>0</td>\n",
       "      <td>1</td>\n",
       "      <td>1</td>\n",
       "      <td>34.9</td>\n",
       "      <td>obese (class I)</td>\n",
       "    </tr>\n",
       "    <tr>\n",
       "      <th>2</th>\n",
       "      <td>2</td>\n",
       "      <td>52.0</td>\n",
       "      <td>Women</td>\n",
       "      <td>165</td>\n",
       "      <td>64.0</td>\n",
       "      <td>130</td>\n",
       "      <td>70</td>\n",
       "      <td>3</td>\n",
       "      <td>1</td>\n",
       "      <td>0</td>\n",
       "      <td>0</td>\n",
       "      <td>0</td>\n",
       "      <td>1</td>\n",
       "      <td>23.5</td>\n",
       "      <td>normal range</td>\n",
       "    </tr>\n",
       "    <tr>\n",
       "      <th>3</th>\n",
       "      <td>3</td>\n",
       "      <td>48.0</td>\n",
       "      <td>Men</td>\n",
       "      <td>169</td>\n",
       "      <td>82.0</td>\n",
       "      <td>150</td>\n",
       "      <td>100</td>\n",
       "      <td>1</td>\n",
       "      <td>1</td>\n",
       "      <td>0</td>\n",
       "      <td>0</td>\n",
       "      <td>1</td>\n",
       "      <td>1</td>\n",
       "      <td>28.7</td>\n",
       "      <td>overweight</td>\n",
       "    </tr>\n",
       "    <tr>\n",
       "      <th>5</th>\n",
       "      <td>8</td>\n",
       "      <td>60.0</td>\n",
       "      <td>Women</td>\n",
       "      <td>151</td>\n",
       "      <td>67.0</td>\n",
       "      <td>120</td>\n",
       "      <td>80</td>\n",
       "      <td>2</td>\n",
       "      <td>2</td>\n",
       "      <td>0</td>\n",
       "      <td>0</td>\n",
       "      <td>0</td>\n",
       "      <td>0</td>\n",
       "      <td>29.4</td>\n",
       "      <td>overweight</td>\n",
       "    </tr>\n",
       "  </tbody>\n",
       "</table>\n",
       "</div>"
      ],
      "text/plain": [
       "   id   age gender  height  weight  ap_hi  ap_lo  cholesterol  gluc  smoke  \\\n",
       "0   0  50.0    Men     168    62.0    110     80            1     1      0   \n",
       "1   1  55.0  Women     156    85.0    140     90            3     1      0   \n",
       "2   2  52.0  Women     165    64.0    130     70            3     1      0   \n",
       "3   3  48.0    Men     169    82.0    150    100            1     1      0   \n",
       "5   8  60.0  Women     151    67.0    120     80            2     2      0   \n",
       "\n",
       "   alco  active  cardio   BMI     BMI_category  \n",
       "0     0       1       0  22.0     normal range  \n",
       "1     0       1       1  34.9  obese (class I)  \n",
       "2     0       0       1  23.5     normal range  \n",
       "3     0       1       1  28.7       overweight  \n",
       "5     0       0       0  29.4       overweight  "
      ]
     },
     "execution_count": 353,
     "metadata": {},
     "output_type": "execute_result"
    }
   ],
   "source": [
    "#  using Tukey method dentify  outliers\n",
    "\n",
    "# Systolic Blood Pressure\n",
    "SBP_Q1 = reasonable_ap_hi['ap_hi'].quantile(0.25)\n",
    "SBP_Q3 = reasonable_ap_hi['ap_hi'].quantile(0.75)\n",
    "SBP_IQR = SBP_Q3 - SBP_Q1\n",
    "ap_hi_lower_bound = SBP_Q1 - 1.5 * SBP_IQR\n",
    "ap_hi_upper_bound = SBP_Q3 + 1.5 * SBP_IQR\n",
    "outliers_SBP = (reasonable_ap_hi['ap_hi'] < ap_hi_lower_bound) | (reasonable_ap_hi['ap_hi'] > ap_hi_upper_bound)\n",
    "\n",
    "# Diastolic Blood Pressure\n",
    "DBP_Q1 = reasonable_ap_lo['ap_lo'].quantile(0.25)\n",
    "DBP_Q3 = reasonable_ap_lo['ap_lo'].quantile(0.75)\n",
    "DBP_IQR = DBP_Q3 - DBP_Q1\n",
    "ap_lo_lower_bound = DBP_Q1 - 1.5 * DBP_IQR\n",
    "ap_lo_upper_bound = DBP_Q3 + 1.5 * DBP_IQR\n",
    "outliers_DBP = (reasonable_ap_lo['ap_lo'] < ap_lo_lower_bound) | (reasonable_ap_lo['ap_lo'] > ap_lo_upper_bound)\n",
    "\n",
    "\n",
    "# removie outliers from reasonable data\n",
    "df_cleaned_SBP = reasonable_ap_hi[~outliers_SBP]\n",
    "df_cleaned_DBP = reasonable_ap_lo[~outliers_DBP]\n",
    "df_cleaned_DBP.head()"
   ]
  },
  {
   "cell_type": "code",
   "execution_count": 354,
   "metadata": {},
   "outputs": [
    {
     "data": {
      "image/png": "[encoded data removed]",
      "text/plain": [
       "<Figure size 1400x500 with 2 Axes>"
      ]
     },
     "metadata": {},
     "output_type": "display_data"
    }
   ],
   "source": [
    "fig, ax = plt.subplots(1, 2, figsize=(14, 5))\n",
    "\n",
    "ax[0].boxplot(df_cleaned_SBP['ap_hi'])\n",
    "ax[0].set_title('reasonable Systolic blood pressure(ap_hi) without outliers')\n",
    "ax[0].set_xlabel('Systolic blood pressure(ap_hi)')\n",
    "\n",
    "ax[1].boxplot(df_cleaned_DBP['ap_lo'])\n",
    "ax[1].set_title('reasonable Diastolic blood pressure(ap_lo) without outliers')\n",
    "ax[1].set_xlabel('Diastolic blood pressure(ap_lo)')\n",
    "\n",
    "plt.show()\n"
   ]
  },
  {
   "attachments": {},
   "cell_type": "markdown",
   "metadata": {},
   "source": [
    "- The systolic blood pressure (ap_hi) and diastolic blood pressure (ap_lo) has negative values in data which are not possible for blood pressure. so we to want filter out the values which are less than or equal to zero.\n",
    "\n",
    "- For reasonable ap_hi and ap_lo values, we filter the data by using the range of blood pressure values as ap_hi_max = 220,  ap_hi_min= 90, ap_lo_max= 100, ap_lo_min= 40.\n",
    "\n",
    "- By using Tukey method we then calculate the first and third quartiles of this data to determine interquartile range and define lower and upper bounds of systolic and diastolic bp.So any values that are outside of this range cosidered as outliers and removes from the data.\n",
    "\n",
    "- We then plot boxplots with cleaned outliers of both systolic and diastolic blood pressure for reasonable values."
   ]
  },
  {
   "attachments": {},
   "cell_type": "markdown",
   "metadata": {},
   "source": [
    "https://www.heart.org/en/health-topics/high-blood-pressure/understanding-blood-pressure-readings\n",
    "To create a categorical Blood pressure feature with the categories:\n",
    "- Normal                 : SBP < 120 and DBP < 80\n",
    "- Elevated               : 120 ≤ SBP ≤ 129 mm Hg and  DBP < 80 mm Hg\n",
    "- stage1 hypertension    : 130 ≤ SBP ≤ 139 mm Hg  or  80 ≤ DBP ≤ 89 mm Hg\n",
    "- stage2 hypertension    : SBP ≥ 140 mm Hg or  DBP ≥ 90 mm Hg\n",
    "- hypertension crisis\t: SBP > 180 mm Hg or DBP > 120 mm Hg\n",
    "\n"
   ]
  },
  {
   "cell_type": "code",
   "execution_count": 355,
   "metadata": {},
   "outputs": [
    {
     "data": {
      "text/html": [
       "<div>\n",
       "<style scoped>\n",
       "    .dataframe tbody tr th:only-of-type {\n",
       "        vertical-align: middle;\n",
       "    }\n",
       "\n",
       "    .dataframe tbody tr th {\n",
       "        vertical-align: top;\n",
       "    }\n",
       "\n",
       "    .dataframe thead th {\n",
       "        text-align: right;\n",
       "    }\n",
       "</style>\n",
       "<table border=\"1\" class=\"dataframe\">\n",
       "  <thead>\n",
       "    <tr style=\"text-align: right;\">\n",
       "      <th></th>\n",
       "      <th>id</th>\n",
       "      <th>age</th>\n",
       "      <th>gender</th>\n",
       "      <th>height</th>\n",
       "      <th>weight</th>\n",
       "      <th>ap_hi</th>\n",
       "      <th>ap_lo</th>\n",
       "      <th>cholesterol</th>\n",
       "      <th>gluc</th>\n",
       "      <th>smoke</th>\n",
       "      <th>alco</th>\n",
       "      <th>active</th>\n",
       "      <th>cardio</th>\n",
       "      <th>BMI</th>\n",
       "      <th>BMI_category</th>\n",
       "      <th>BP_category</th>\n",
       "    </tr>\n",
       "  </thead>\n",
       "  <tbody>\n",
       "    <tr>\n",
       "      <th>0</th>\n",
       "      <td>0</td>\n",
       "      <td>50.0</td>\n",
       "      <td>Men</td>\n",
       "      <td>168</td>\n",
       "      <td>62.0</td>\n",
       "      <td>110</td>\n",
       "      <td>80</td>\n",
       "      <td>1</td>\n",
       "      <td>1</td>\n",
       "      <td>0</td>\n",
       "      <td>0</td>\n",
       "      <td>1</td>\n",
       "      <td>0</td>\n",
       "      <td>22.0</td>\n",
       "      <td>normal range</td>\n",
       "      <td>hypertension stage I</td>\n",
       "    </tr>\n",
       "    <tr>\n",
       "      <th>1</th>\n",
       "      <td>1</td>\n",
       "      <td>55.0</td>\n",
       "      <td>Women</td>\n",
       "      <td>156</td>\n",
       "      <td>85.0</td>\n",
       "      <td>140</td>\n",
       "      <td>90</td>\n",
       "      <td>3</td>\n",
       "      <td>1</td>\n",
       "      <td>0</td>\n",
       "      <td>0</td>\n",
       "      <td>1</td>\n",
       "      <td>1</td>\n",
       "      <td>34.9</td>\n",
       "      <td>obese (class I)</td>\n",
       "      <td>hypertension stage II</td>\n",
       "    </tr>\n",
       "    <tr>\n",
       "      <th>2</th>\n",
       "      <td>2</td>\n",
       "      <td>52.0</td>\n",
       "      <td>Women</td>\n",
       "      <td>165</td>\n",
       "      <td>64.0</td>\n",
       "      <td>130</td>\n",
       "      <td>70</td>\n",
       "      <td>3</td>\n",
       "      <td>1</td>\n",
       "      <td>0</td>\n",
       "      <td>0</td>\n",
       "      <td>0</td>\n",
       "      <td>1</td>\n",
       "      <td>23.5</td>\n",
       "      <td>normal range</td>\n",
       "      <td>hypertension stage I</td>\n",
       "    </tr>\n",
       "    <tr>\n",
       "      <th>3</th>\n",
       "      <td>3</td>\n",
       "      <td>48.0</td>\n",
       "      <td>Men</td>\n",
       "      <td>169</td>\n",
       "      <td>82.0</td>\n",
       "      <td>150</td>\n",
       "      <td>100</td>\n",
       "      <td>1</td>\n",
       "      <td>1</td>\n",
       "      <td>0</td>\n",
       "      <td>0</td>\n",
       "      <td>1</td>\n",
       "      <td>1</td>\n",
       "      <td>28.7</td>\n",
       "      <td>overweight</td>\n",
       "      <td>hypertension stage II</td>\n",
       "    </tr>\n",
       "    <tr>\n",
       "      <th>4</th>\n",
       "      <td>4</td>\n",
       "      <td>48.0</td>\n",
       "      <td>Women</td>\n",
       "      <td>156</td>\n",
       "      <td>56.0</td>\n",
       "      <td>100</td>\n",
       "      <td>60</td>\n",
       "      <td>1</td>\n",
       "      <td>1</td>\n",
       "      <td>0</td>\n",
       "      <td>0</td>\n",
       "      <td>0</td>\n",
       "      <td>0</td>\n",
       "      <td>23.0</td>\n",
       "      <td>normal range</td>\n",
       "      <td>normal</td>\n",
       "    </tr>\n",
       "  </tbody>\n",
       "</table>\n",
       "</div>"
      ],
      "text/plain": [
       "   id   age gender  height  weight  ap_hi  ap_lo  cholesterol  gluc  smoke  \\\n",
       "0   0  50.0    Men     168    62.0    110     80            1     1      0   \n",
       "1   1  55.0  Women     156    85.0    140     90            3     1      0   \n",
       "2   2  52.0  Women     165    64.0    130     70            3     1      0   \n",
       "3   3  48.0    Men     169    82.0    150    100            1     1      0   \n",
       "4   4  48.0  Women     156    56.0    100     60            1     1      0   \n",
       "\n",
       "   alco  active  cardio   BMI     BMI_category            BP_category  \n",
       "0     0       1       0  22.0     normal range   hypertension stage I  \n",
       "1     0       1       1  34.9  obese (class I)  hypertension stage II  \n",
       "2     0       0       1  23.5     normal range   hypertension stage I  \n",
       "3     0       1       1  28.7       overweight  hypertension stage II  \n",
       "4     0       0       0  23.0     normal range                 normal  "
      ]
     },
     "execution_count": 355,
     "metadata": {},
     "output_type": "execute_result"
    }
   ],
   "source": [
    "def categorical_BP(ap_hi,ap_lo):\n",
    "    if ap_hi < 120 and ap_lo < 80:\n",
    "        return 'normal'\n",
    "    elif 120 <= ap_hi <= 129 and ap_lo < 80:\n",
    "        return 'elevated'\n",
    "    elif 130 <= ap_hi <= 139 or 80 <= ap_lo <= 89:\n",
    "        return 'hypertension stage I' \n",
    "    elif  ap_hi >= 140 or ap_lo >= 90:\n",
    "        return 'hypertension stage II' \n",
    "    elif ap_hi > 180 or ap_lo > 120:\n",
    "        return 'hypertension crisis'\n",
    "    \n",
    "data['BP_category'] =  data.apply(lambda x: categorical_BP(x['ap_hi'], x['ap_lo']), axis=1)\n",
    "data.head()"
   ]
  },
  {
   "attachments": {},
   "cell_type": "markdown",
   "metadata": {},
   "source": [
    "# 2.2.0 - Visualiseringar andel sjukdomar\n",
    "Skapa barplots med en feature mot andelen positiva för hjärt-kärl sjukdom. Exempelvis blodtryckskategorier\n",
    "mot andel positiva, BMI kategori mot andel positiva mm. Gör dessa plots i en figur med flera subplots.\n"
   ]
  },
  {
   "cell_type": "code",
   "execution_count": 356,
   "metadata": {},
   "outputs": [
    {
     "data": {
      "image/png": "[encoded data removed]",
      "text/plain": [
       "<Figure size 1050x980 with 7 Axes>"
      ]
     },
     "metadata": {},
     "output_type": "display_data"
    }
   ],
   "source": [
    "# data with cardio\n",
    "df_cardio= data.query('cardio== 1')\n",
    "cardio = ['BP_category','BMI_category','cholesterol','gluc','smoke','alco','active']\n",
    "fig = plt.figure(figsize=(15,14),dpi=70) # shows the figure size\n",
    "fig.suptitle('Proportion of Cardiovascular Disease by Feature \\n ', fontsize=20)\n",
    "for i, col in enumerate(cardio):\n",
    " \n",
    "    ax=plt.subplot(4,2,i+1) # represents subplots two row with four column\n",
    "    sns.barplot(x=df_cardio[col].unique(), y=(df_cardio.groupby(by=col)['cardio'].value_counts())/df_cardio.shape[0], width=0.4)\n",
    "    ax.set_xlabel(col)\n",
    "    ax.set_ylabel(\"Proportion\")\n",
    "    ax.set_title(f\"Cardio vs.{col} \")\n",
    " \n",
    "fig.tight_layout()\n",
    "plt.show()"
   ]
  },
  {
   "attachments": {},
   "cell_type": "markdown",
   "metadata": {},
   "source": [
    "# 2.2.1 - Visualiseringar korrelation\n",
    "Skapa en heatmap av korrelationer och se om du hittar features som är starkt korrelerade, dvs nära 1 eller\n",
    "features som är starkt negativt korrelerade, dvs nära -1. Kan du förklara varför de kan vara korrelerade?\n"
   ]
  },
  {
   "cell_type": "code",
   "execution_count": 357,
   "metadata": {},
   "outputs": [
    {
     "data": {
      "text/html": [
       "<div>\n",
       "<style scoped>\n",
       "    .dataframe tbody tr th:only-of-type {\n",
       "        vertical-align: middle;\n",
       "    }\n",
       "\n",
       "    .dataframe tbody tr th {\n",
       "        vertical-align: top;\n",
       "    }\n",
       "\n",
       "    .dataframe thead th {\n",
       "        text-align: right;\n",
       "    }\n",
       "</style>\n",
       "<table border=\"1\" class=\"dataframe\">\n",
       "  <thead>\n",
       "    <tr style=\"text-align: right;\">\n",
       "      <th></th>\n",
       "      <th>id</th>\n",
       "      <th>age</th>\n",
       "      <th>height</th>\n",
       "      <th>weight</th>\n",
       "      <th>ap_hi</th>\n",
       "      <th>ap_lo</th>\n",
       "      <th>cholesterol</th>\n",
       "      <th>gluc</th>\n",
       "      <th>smoke</th>\n",
       "      <th>alco</th>\n",
       "      <th>active</th>\n",
       "      <th>cardio</th>\n",
       "      <th>BMI</th>\n",
       "    </tr>\n",
       "  </thead>\n",
       "  <tbody>\n",
       "    <tr>\n",
       "      <th>id</th>\n",
       "      <td>1.000000</td>\n",
       "      <td>0.002984</td>\n",
       "      <td>-0.003051</td>\n",
       "      <td>-0.001822</td>\n",
       "      <td>0.003302</td>\n",
       "      <td>-0.002500</td>\n",
       "      <td>0.006170</td>\n",
       "      <td>0.002394</td>\n",
       "      <td>-0.003708</td>\n",
       "      <td>0.001234</td>\n",
       "      <td>0.003742</td>\n",
       "      <td>0.003807</td>\n",
       "      <td>-0.001344</td>\n",
       "    </tr>\n",
       "    <tr>\n",
       "      <th>age</th>\n",
       "      <td>0.002984</td>\n",
       "      <td>1.000000</td>\n",
       "      <td>-0.081613</td>\n",
       "      <td>0.053605</td>\n",
       "      <td>0.020962</td>\n",
       "      <td>0.017763</td>\n",
       "      <td>0.154536</td>\n",
       "      <td>0.098542</td>\n",
       "      <td>-0.047999</td>\n",
       "      <td>-0.030036</td>\n",
       "      <td>-0.009894</td>\n",
       "      <td>0.237760</td>\n",
       "      <td>0.085440</td>\n",
       "    </tr>\n",
       "    <tr>\n",
       "      <th>height</th>\n",
       "      <td>-0.003051</td>\n",
       "      <td>-0.081613</td>\n",
       "      <td>1.000000</td>\n",
       "      <td>0.290925</td>\n",
       "      <td>0.005477</td>\n",
       "      <td>0.006154</td>\n",
       "      <td>-0.050213</td>\n",
       "      <td>-0.018677</td>\n",
       "      <td>0.187946</td>\n",
       "      <td>0.094322</td>\n",
       "      <td>-0.006649</td>\n",
       "      <td>-0.010912</td>\n",
       "      <td>-0.290454</td>\n",
       "    </tr>\n",
       "    <tr>\n",
       "      <th>weight</th>\n",
       "      <td>-0.001822</td>\n",
       "      <td>0.053605</td>\n",
       "      <td>0.290925</td>\n",
       "      <td>1.000000</td>\n",
       "      <td>0.031056</td>\n",
       "      <td>0.043650</td>\n",
       "      <td>0.141806</td>\n",
       "      <td>0.106735</td>\n",
       "      <td>0.067770</td>\n",
       "      <td>0.067099</td>\n",
       "      <td>-0.016891</td>\n",
       "      <td>0.181594</td>\n",
       "      <td>0.762094</td>\n",
       "    </tr>\n",
       "    <tr>\n",
       "      <th>ap_hi</th>\n",
       "      <td>0.003302</td>\n",
       "      <td>0.020962</td>\n",
       "      <td>0.005477</td>\n",
       "      <td>0.031056</td>\n",
       "      <td>1.000000</td>\n",
       "      <td>0.016297</td>\n",
       "      <td>0.023901</td>\n",
       "      <td>0.011957</td>\n",
       "      <td>-0.000853</td>\n",
       "      <td>0.001465</td>\n",
       "      <td>-0.000274</td>\n",
       "      <td>0.054821</td>\n",
       "      <td>0.025189</td>\n",
       "    </tr>\n",
       "  </tbody>\n",
       "</table>\n",
       "</div>"
      ],
      "text/plain": [
       "              id       age    height    weight     ap_hi     ap_lo  \\\n",
       "id      1.000000  0.002984 -0.003051 -0.001822  0.003302 -0.002500   \n",
       "age     0.002984  1.000000 -0.081613  0.053605  0.020962  0.017763   \n",
       "height -0.003051 -0.081613  1.000000  0.290925  0.005477  0.006154   \n",
       "weight -0.001822  0.053605  0.290925  1.000000  0.031056  0.043650   \n",
       "ap_hi   0.003302  0.020962  0.005477  0.031056  1.000000  0.016297   \n",
       "\n",
       "        cholesterol      gluc     smoke      alco    active    cardio  \\\n",
       "id         0.006170  0.002394 -0.003708  0.001234  0.003742  0.003807   \n",
       "age        0.154536  0.098542 -0.047999 -0.030036 -0.009894  0.237760   \n",
       "height    -0.050213 -0.018677  0.187946  0.094322 -0.006649 -0.010912   \n",
       "weight     0.141806  0.106735  0.067770  0.067099 -0.016891  0.181594   \n",
       "ap_hi      0.023901  0.011957 -0.000853  0.001465 -0.000274  0.054821   \n",
       "\n",
       "             BMI  \n",
       "id     -0.001344  \n",
       "age     0.085440  \n",
       "height -0.290454  \n",
       "weight  0.762094  \n",
       "ap_hi   0.025189  "
      ]
     },
     "execution_count": 357,
     "metadata": {},
     "output_type": "execute_result"
    }
   ],
   "source": [
    "data.corr(numeric_only=True).head()"
   ]
  },
  {
   "cell_type": "code",
   "execution_count": 358,
   "metadata": {},
   "outputs": [
    {
     "data": {
      "text/plain": [
       "Index(['id', 'age', 'gender', 'height', 'weight', 'ap_hi', 'ap_lo',\n",
       "       'cholesterol', 'gluc', 'smoke', 'alco', 'active', 'cardio', 'BMI',\n",
       "       'BMI_category', 'BP_category'],\n",
       "      dtype='object')"
      ]
     },
     "execution_count": 358,
     "metadata": {},
     "output_type": "execute_result"
    }
   ],
   "source": [
    "data.columns"
   ]
  },
  {
   "cell_type": "code",
   "execution_count": 359,
   "metadata": {},
   "outputs": [
    {
     "data": {
      "text/plain": [
       "<Axes: >"
      ]
     },
     "execution_count": 359,
     "metadata": {},
     "output_type": "execute_result"
    },
    {
     "data": {
      "image/png": "[encoded data removed]",
      "text/plain": [
       "<Figure size 1600x700 with 2 Axes>"
      ]
     },
     "metadata": {},
     "output_type": "display_data"
    }
   ],
   "source": [
    "fig = plt.figure(figsize=(16,7))\n",
    "sns.heatmap(data.corr(numeric_only=True), annot=True, linewidths='.2')"
   ]
  },
  {
   "attachments": {},
   "cell_type": "markdown",
   "metadata": {},
   "source": [
    "# 2.3 - Skapa två dataset\n",
    "Skapa en kopia av ditt dataframe. På ena dataframet:\n",
    "\n",
    "ta bort följande features: ap_hi, ap_lo, height, weight, BMI\n",
    "gör one-hot encoding på BMI-kategori, blodtryckskategori och kön\n",
    "\n",
    "På andra dataframet:\n",
    "\n",
    "ta bort följande features: BMI-kategori, blodtryckskategori, height, weight\n",
    "gör one-hot encoding på kön"
   ]
  },
  {
   "cell_type": "code",
   "execution_count": 360,
   "metadata": {},
   "outputs": [
    {
     "data": {
      "text/html": [
       "<div>\n",
       "<style scoped>\n",
       "    .dataframe tbody tr th:only-of-type {\n",
       "        vertical-align: middle;\n",
       "    }\n",
       "\n",
       "    .dataframe tbody tr th {\n",
       "        vertical-align: top;\n",
       "    }\n",
       "\n",
       "    .dataframe thead th {\n",
       "        text-align: right;\n",
       "    }\n",
       "</style>\n",
       "<table border=\"1\" class=\"dataframe\">\n",
       "  <thead>\n",
       "    <tr style=\"text-align: right;\">\n",
       "      <th></th>\n",
       "      <th>id</th>\n",
       "      <th>age</th>\n",
       "      <th>gender</th>\n",
       "      <th>height</th>\n",
       "      <th>weight</th>\n",
       "      <th>ap_hi</th>\n",
       "      <th>ap_lo</th>\n",
       "      <th>cholesterol</th>\n",
       "      <th>gluc</th>\n",
       "      <th>smoke</th>\n",
       "      <th>alco</th>\n",
       "      <th>active</th>\n",
       "      <th>cardio</th>\n",
       "      <th>BMI</th>\n",
       "      <th>BMI_category</th>\n",
       "      <th>BP_category</th>\n",
       "    </tr>\n",
       "  </thead>\n",
       "  <tbody>\n",
       "    <tr>\n",
       "      <th>0</th>\n",
       "      <td>0</td>\n",
       "      <td>50.0</td>\n",
       "      <td>Men</td>\n",
       "      <td>168</td>\n",
       "      <td>62.0</td>\n",
       "      <td>110</td>\n",
       "      <td>80</td>\n",
       "      <td>1</td>\n",
       "      <td>1</td>\n",
       "      <td>0</td>\n",
       "      <td>0</td>\n",
       "      <td>1</td>\n",
       "      <td>0</td>\n",
       "      <td>22.0</td>\n",
       "      <td>normal range</td>\n",
       "      <td>hypertension stage I</td>\n",
       "    </tr>\n",
       "    <tr>\n",
       "      <th>1</th>\n",
       "      <td>1</td>\n",
       "      <td>55.0</td>\n",
       "      <td>Women</td>\n",
       "      <td>156</td>\n",
       "      <td>85.0</td>\n",
       "      <td>140</td>\n",
       "      <td>90</td>\n",
       "      <td>3</td>\n",
       "      <td>1</td>\n",
       "      <td>0</td>\n",
       "      <td>0</td>\n",
       "      <td>1</td>\n",
       "      <td>1</td>\n",
       "      <td>34.9</td>\n",
       "      <td>obese (class I)</td>\n",
       "      <td>hypertension stage II</td>\n",
       "    </tr>\n",
       "    <tr>\n",
       "      <th>2</th>\n",
       "      <td>2</td>\n",
       "      <td>52.0</td>\n",
       "      <td>Women</td>\n",
       "      <td>165</td>\n",
       "      <td>64.0</td>\n",
       "      <td>130</td>\n",
       "      <td>70</td>\n",
       "      <td>3</td>\n",
       "      <td>1</td>\n",
       "      <td>0</td>\n",
       "      <td>0</td>\n",
       "      <td>0</td>\n",
       "      <td>1</td>\n",
       "      <td>23.5</td>\n",
       "      <td>normal range</td>\n",
       "      <td>hypertension stage I</td>\n",
       "    </tr>\n",
       "    <tr>\n",
       "      <th>3</th>\n",
       "      <td>3</td>\n",
       "      <td>48.0</td>\n",
       "      <td>Men</td>\n",
       "      <td>169</td>\n",
       "      <td>82.0</td>\n",
       "      <td>150</td>\n",
       "      <td>100</td>\n",
       "      <td>1</td>\n",
       "      <td>1</td>\n",
       "      <td>0</td>\n",
       "      <td>0</td>\n",
       "      <td>1</td>\n",
       "      <td>1</td>\n",
       "      <td>28.7</td>\n",
       "      <td>overweight</td>\n",
       "      <td>hypertension stage II</td>\n",
       "    </tr>\n",
       "    <tr>\n",
       "      <th>4</th>\n",
       "      <td>4</td>\n",
       "      <td>48.0</td>\n",
       "      <td>Women</td>\n",
       "      <td>156</td>\n",
       "      <td>56.0</td>\n",
       "      <td>100</td>\n",
       "      <td>60</td>\n",
       "      <td>1</td>\n",
       "      <td>1</td>\n",
       "      <td>0</td>\n",
       "      <td>0</td>\n",
       "      <td>0</td>\n",
       "      <td>0</td>\n",
       "      <td>23.0</td>\n",
       "      <td>normal range</td>\n",
       "      <td>normal</td>\n",
       "    </tr>\n",
       "  </tbody>\n",
       "</table>\n",
       "</div>"
      ],
      "text/plain": [
       "   id   age gender  height  weight  ap_hi  ap_lo  cholesterol  gluc  smoke  \\\n",
       "0   0  50.0    Men     168    62.0    110     80            1     1      0   \n",
       "1   1  55.0  Women     156    85.0    140     90            3     1      0   \n",
       "2   2  52.0  Women     165    64.0    130     70            3     1      0   \n",
       "3   3  48.0    Men     169    82.0    150    100            1     1      0   \n",
       "4   4  48.0  Women     156    56.0    100     60            1     1      0   \n",
       "\n",
       "   alco  active  cardio   BMI     BMI_category            BP_category  \n",
       "0     0       1       0  22.0     normal range   hypertension stage I  \n",
       "1     0       1       1  34.9  obese (class I)  hypertension stage II  \n",
       "2     0       0       1  23.5     normal range   hypertension stage I  \n",
       "3     0       1       1  28.7       overweight  hypertension stage II  \n",
       "4     0       0       0  23.0     normal range                 normal  "
      ]
     },
     "execution_count": 360,
     "metadata": {},
     "output_type": "execute_result"
    }
   ],
   "source": [
    "# Create a copy of data frame\n",
    "df_copy = data.copy(deep=True)\n",
    "df_copy.head()"
   ]
  },
  {
   "attachments": {},
   "cell_type": "markdown",
   "metadata": {},
   "source": [
    "### Data set 1:"
   ]
  },
  {
   "cell_type": "code",
   "execution_count": 361,
   "metadata": {},
   "outputs": [
    {
     "data": {
      "text/html": [
       "<div>\n",
       "<style scoped>\n",
       "    .dataframe tbody tr th:only-of-type {\n",
       "        vertical-align: middle;\n",
       "    }\n",
       "\n",
       "    .dataframe tbody tr th {\n",
       "        vertical-align: top;\n",
       "    }\n",
       "\n",
       "    .dataframe thead th {\n",
       "        text-align: right;\n",
       "    }\n",
       "</style>\n",
       "<table border=\"1\" class=\"dataframe\">\n",
       "  <thead>\n",
       "    <tr style=\"text-align: right;\">\n",
       "      <th></th>\n",
       "      <th>id</th>\n",
       "      <th>age</th>\n",
       "      <th>gender</th>\n",
       "      <th>cholesterol</th>\n",
       "      <th>gluc</th>\n",
       "      <th>smoke</th>\n",
       "      <th>alco</th>\n",
       "      <th>active</th>\n",
       "      <th>cardio</th>\n",
       "      <th>BMI_category</th>\n",
       "      <th>BP_category</th>\n",
       "    </tr>\n",
       "  </thead>\n",
       "  <tbody>\n",
       "    <tr>\n",
       "      <th>0</th>\n",
       "      <td>0</td>\n",
       "      <td>50.0</td>\n",
       "      <td>Men</td>\n",
       "      <td>1</td>\n",
       "      <td>1</td>\n",
       "      <td>0</td>\n",
       "      <td>0</td>\n",
       "      <td>1</td>\n",
       "      <td>0</td>\n",
       "      <td>normal range</td>\n",
       "      <td>hypertension stage I</td>\n",
       "    </tr>\n",
       "    <tr>\n",
       "      <th>1</th>\n",
       "      <td>1</td>\n",
       "      <td>55.0</td>\n",
       "      <td>Women</td>\n",
       "      <td>3</td>\n",
       "      <td>1</td>\n",
       "      <td>0</td>\n",
       "      <td>0</td>\n",
       "      <td>1</td>\n",
       "      <td>1</td>\n",
       "      <td>obese (class I)</td>\n",
       "      <td>hypertension stage II</td>\n",
       "    </tr>\n",
       "    <tr>\n",
       "      <th>2</th>\n",
       "      <td>2</td>\n",
       "      <td>52.0</td>\n",
       "      <td>Women</td>\n",
       "      <td>3</td>\n",
       "      <td>1</td>\n",
       "      <td>0</td>\n",
       "      <td>0</td>\n",
       "      <td>0</td>\n",
       "      <td>1</td>\n",
       "      <td>normal range</td>\n",
       "      <td>hypertension stage I</td>\n",
       "    </tr>\n",
       "    <tr>\n",
       "      <th>3</th>\n",
       "      <td>3</td>\n",
       "      <td>48.0</td>\n",
       "      <td>Men</td>\n",
       "      <td>1</td>\n",
       "      <td>1</td>\n",
       "      <td>0</td>\n",
       "      <td>0</td>\n",
       "      <td>1</td>\n",
       "      <td>1</td>\n",
       "      <td>overweight</td>\n",
       "      <td>hypertension stage II</td>\n",
       "    </tr>\n",
       "    <tr>\n",
       "      <th>4</th>\n",
       "      <td>4</td>\n",
       "      <td>48.0</td>\n",
       "      <td>Women</td>\n",
       "      <td>1</td>\n",
       "      <td>1</td>\n",
       "      <td>0</td>\n",
       "      <td>0</td>\n",
       "      <td>0</td>\n",
       "      <td>0</td>\n",
       "      <td>normal range</td>\n",
       "      <td>normal</td>\n",
       "    </tr>\n",
       "  </tbody>\n",
       "</table>\n",
       "</div>"
      ],
      "text/plain": [
       "   id   age gender  cholesterol  gluc  smoke  alco  active  cardio  \\\n",
       "0   0  50.0    Men            1     1      0     0       1       0   \n",
       "1   1  55.0  Women            3     1      0     0       1       1   \n",
       "2   2  52.0  Women            3     1      0     0       0       1   \n",
       "3   3  48.0    Men            1     1      0     0       1       1   \n",
       "4   4  48.0  Women            1     1      0     0       0       0   \n",
       "\n",
       "      BMI_category            BP_category  \n",
       "0     normal range   hypertension stage I  \n",
       "1  obese (class I)  hypertension stage II  \n",
       "2     normal range   hypertension stage I  \n",
       "3       overweight  hypertension stage II  \n",
       "4     normal range                 normal  "
      ]
     },
     "execution_count": 361,
     "metadata": {},
     "output_type": "execute_result"
    }
   ],
   "source": [
    "# Remove the following features: ap_hi, ap_lo, height, weight, BMI\n",
    "df_feature1= df_copy.drop(['ap_hi', 'ap_lo', 'height', 'weight', 'BMI'], axis=1)\n",
    "df_feature1.head()"
   ]
  },
  {
   "cell_type": "code",
   "execution_count": 362,
   "metadata": {},
   "outputs": [
    {
     "data": {
      "text/html": [
       "<div>\n",
       "<style scoped>\n",
       "    .dataframe tbody tr th:only-of-type {\n",
       "        vertical-align: middle;\n",
       "    }\n",
       "\n",
       "    .dataframe tbody tr th {\n",
       "        vertical-align: top;\n",
       "    }\n",
       "\n",
       "    .dataframe thead th {\n",
       "        text-align: right;\n",
       "    }\n",
       "</style>\n",
       "<table border=\"1\" class=\"dataframe\">\n",
       "  <thead>\n",
       "    <tr style=\"text-align: right;\">\n",
       "      <th></th>\n",
       "      <th>id</th>\n",
       "      <th>age</th>\n",
       "      <th>cholesterol</th>\n",
       "      <th>gluc</th>\n",
       "      <th>smoke</th>\n",
       "      <th>alco</th>\n",
       "      <th>active</th>\n",
       "      <th>cardio</th>\n",
       "      <th>BMI_category_normal range</th>\n",
       "      <th>BMI_category_obese (class I)</th>\n",
       "      <th>BMI_category_obese (class II)</th>\n",
       "      <th>BMI_category_obese (class III)</th>\n",
       "      <th>BMI_category_overweight</th>\n",
       "      <th>BMI_category_underweight</th>\n",
       "      <th>BP_category_elevated</th>\n",
       "      <th>BP_category_hypertension stage I</th>\n",
       "      <th>BP_category_hypertension stage II</th>\n",
       "      <th>BP_category_normal</th>\n",
       "      <th>gender_Men</th>\n",
       "      <th>gender_Women</th>\n",
       "    </tr>\n",
       "  </thead>\n",
       "  <tbody>\n",
       "    <tr>\n",
       "      <th>0</th>\n",
       "      <td>0</td>\n",
       "      <td>50.0</td>\n",
       "      <td>1</td>\n",
       "      <td>1</td>\n",
       "      <td>0</td>\n",
       "      <td>0</td>\n",
       "      <td>1</td>\n",
       "      <td>0</td>\n",
       "      <td>1</td>\n",
       "      <td>0</td>\n",
       "      <td>0</td>\n",
       "      <td>0</td>\n",
       "      <td>0</td>\n",
       "      <td>0</td>\n",
       "      <td>0</td>\n",
       "      <td>1</td>\n",
       "      <td>0</td>\n",
       "      <td>0</td>\n",
       "      <td>1</td>\n",
       "      <td>0</td>\n",
       "    </tr>\n",
       "    <tr>\n",
       "      <th>1</th>\n",
       "      <td>1</td>\n",
       "      <td>55.0</td>\n",
       "      <td>3</td>\n",
       "      <td>1</td>\n",
       "      <td>0</td>\n",
       "      <td>0</td>\n",
       "      <td>1</td>\n",
       "      <td>1</td>\n",
       "      <td>0</td>\n",
       "      <td>1</td>\n",
       "      <td>0</td>\n",
       "      <td>0</td>\n",
       "      <td>0</td>\n",
       "      <td>0</td>\n",
       "      <td>0</td>\n",
       "      <td>0</td>\n",
       "      <td>1</td>\n",
       "      <td>0</td>\n",
       "      <td>0</td>\n",
       "      <td>1</td>\n",
       "    </tr>\n",
       "    <tr>\n",
       "      <th>2</th>\n",
       "      <td>2</td>\n",
       "      <td>52.0</td>\n",
       "      <td>3</td>\n",
       "      <td>1</td>\n",
       "      <td>0</td>\n",
       "      <td>0</td>\n",
       "      <td>0</td>\n",
       "      <td>1</td>\n",
       "      <td>1</td>\n",
       "      <td>0</td>\n",
       "      <td>0</td>\n",
       "      <td>0</td>\n",
       "      <td>0</td>\n",
       "      <td>0</td>\n",
       "      <td>0</td>\n",
       "      <td>1</td>\n",
       "      <td>0</td>\n",
       "      <td>0</td>\n",
       "      <td>0</td>\n",
       "      <td>1</td>\n",
       "    </tr>\n",
       "    <tr>\n",
       "      <th>3</th>\n",
       "      <td>3</td>\n",
       "      <td>48.0</td>\n",
       "      <td>1</td>\n",
       "      <td>1</td>\n",
       "      <td>0</td>\n",
       "      <td>0</td>\n",
       "      <td>1</td>\n",
       "      <td>1</td>\n",
       "      <td>0</td>\n",
       "      <td>0</td>\n",
       "      <td>0</td>\n",
       "      <td>0</td>\n",
       "      <td>1</td>\n",
       "      <td>0</td>\n",
       "      <td>0</td>\n",
       "      <td>0</td>\n",
       "      <td>1</td>\n",
       "      <td>0</td>\n",
       "      <td>1</td>\n",
       "      <td>0</td>\n",
       "    </tr>\n",
       "    <tr>\n",
       "      <th>4</th>\n",
       "      <td>4</td>\n",
       "      <td>48.0</td>\n",
       "      <td>1</td>\n",
       "      <td>1</td>\n",
       "      <td>0</td>\n",
       "      <td>0</td>\n",
       "      <td>0</td>\n",
       "      <td>0</td>\n",
       "      <td>1</td>\n",
       "      <td>0</td>\n",
       "      <td>0</td>\n",
       "      <td>0</td>\n",
       "      <td>0</td>\n",
       "      <td>0</td>\n",
       "      <td>0</td>\n",
       "      <td>0</td>\n",
       "      <td>0</td>\n",
       "      <td>1</td>\n",
       "      <td>0</td>\n",
       "      <td>1</td>\n",
       "    </tr>\n",
       "  </tbody>\n",
       "</table>\n",
       "</div>"
      ],
      "text/plain": [
       "   id   age  cholesterol  gluc  smoke  alco  active  cardio  \\\n",
       "0   0  50.0            1     1      0     0       1       0   \n",
       "1   1  55.0            3     1      0     0       1       1   \n",
       "2   2  52.0            3     1      0     0       0       1   \n",
       "3   3  48.0            1     1      0     0       1       1   \n",
       "4   4  48.0            1     1      0     0       0       0   \n",
       "\n",
       "   BMI_category_normal range  BMI_category_obese (class I)  \\\n",
       "0                          1                             0   \n",
       "1                          0                             1   \n",
       "2                          1                             0   \n",
       "3                          0                             0   \n",
       "4                          1                             0   \n",
       "\n",
       "   BMI_category_obese (class II)  BMI_category_obese (class III)  \\\n",
       "0                              0                               0   \n",
       "1                              0                               0   \n",
       "2                              0                               0   \n",
       "3                              0                               0   \n",
       "4                              0                               0   \n",
       "\n",
       "   BMI_category_overweight  BMI_category_underweight  BP_category_elevated  \\\n",
       "0                        0                         0                     0   \n",
       "1                        0                         0                     0   \n",
       "2                        0                         0                     0   \n",
       "3                        1                         0                     0   \n",
       "4                        0                         0                     0   \n",
       "\n",
       "   BP_category_hypertension stage I  BP_category_hypertension stage II  \\\n",
       "0                                 1                                  0   \n",
       "1                                 0                                  1   \n",
       "2                                 1                                  0   \n",
       "3                                 0                                  1   \n",
       "4                                 0                                  0   \n",
       "\n",
       "   BP_category_normal  gender_Men  gender_Women  \n",
       "0                   0           1             0  \n",
       "1                   0           0             1  \n",
       "2                   0           0             1  \n",
       "3                   0           1             0  \n",
       "4                   1           0             1  "
      ]
     },
     "execution_count": 362,
     "metadata": {},
     "output_type": "execute_result"
    }
   ],
   "source": [
    "# Perform one-hot encoding on BMI category, blood pressure category, and gender\n",
    "df1= pd.get_dummies(df_feature1, columns=['BMI_category', 'BP_category', 'gender'])\n",
    "df1.head()"
   ]
  },
  {
   "attachments": {},
   "cell_type": "markdown",
   "metadata": {},
   "source": [
    "### Data set 2:"
   ]
  },
  {
   "cell_type": "code",
   "execution_count": 363,
   "metadata": {},
   "outputs": [
    {
     "data": {
      "text/html": [
       "<div>\n",
       "<style scoped>\n",
       "    .dataframe tbody tr th:only-of-type {\n",
       "        vertical-align: middle;\n",
       "    }\n",
       "\n",
       "    .dataframe tbody tr th {\n",
       "        vertical-align: top;\n",
       "    }\n",
       "\n",
       "    .dataframe thead th {\n",
       "        text-align: right;\n",
       "    }\n",
       "</style>\n",
       "<table border=\"1\" class=\"dataframe\">\n",
       "  <thead>\n",
       "    <tr style=\"text-align: right;\">\n",
       "      <th></th>\n",
       "      <th>id</th>\n",
       "      <th>age</th>\n",
       "      <th>gender</th>\n",
       "      <th>ap_hi</th>\n",
       "      <th>ap_lo</th>\n",
       "      <th>cholesterol</th>\n",
       "      <th>gluc</th>\n",
       "      <th>smoke</th>\n",
       "      <th>alco</th>\n",
       "      <th>active</th>\n",
       "      <th>cardio</th>\n",
       "      <th>BMI</th>\n",
       "    </tr>\n",
       "  </thead>\n",
       "  <tbody>\n",
       "    <tr>\n",
       "      <th>0</th>\n",
       "      <td>0</td>\n",
       "      <td>50.0</td>\n",
       "      <td>Men</td>\n",
       "      <td>110</td>\n",
       "      <td>80</td>\n",
       "      <td>1</td>\n",
       "      <td>1</td>\n",
       "      <td>0</td>\n",
       "      <td>0</td>\n",
       "      <td>1</td>\n",
       "      <td>0</td>\n",
       "      <td>22.0</td>\n",
       "    </tr>\n",
       "    <tr>\n",
       "      <th>1</th>\n",
       "      <td>1</td>\n",
       "      <td>55.0</td>\n",
       "      <td>Women</td>\n",
       "      <td>140</td>\n",
       "      <td>90</td>\n",
       "      <td>3</td>\n",
       "      <td>1</td>\n",
       "      <td>0</td>\n",
       "      <td>0</td>\n",
       "      <td>1</td>\n",
       "      <td>1</td>\n",
       "      <td>34.9</td>\n",
       "    </tr>\n",
       "    <tr>\n",
       "      <th>2</th>\n",
       "      <td>2</td>\n",
       "      <td>52.0</td>\n",
       "      <td>Women</td>\n",
       "      <td>130</td>\n",
       "      <td>70</td>\n",
       "      <td>3</td>\n",
       "      <td>1</td>\n",
       "      <td>0</td>\n",
       "      <td>0</td>\n",
       "      <td>0</td>\n",
       "      <td>1</td>\n",
       "      <td>23.5</td>\n",
       "    </tr>\n",
       "    <tr>\n",
       "      <th>3</th>\n",
       "      <td>3</td>\n",
       "      <td>48.0</td>\n",
       "      <td>Men</td>\n",
       "      <td>150</td>\n",
       "      <td>100</td>\n",
       "      <td>1</td>\n",
       "      <td>1</td>\n",
       "      <td>0</td>\n",
       "      <td>0</td>\n",
       "      <td>1</td>\n",
       "      <td>1</td>\n",
       "      <td>28.7</td>\n",
       "    </tr>\n",
       "    <tr>\n",
       "      <th>4</th>\n",
       "      <td>4</td>\n",
       "      <td>48.0</td>\n",
       "      <td>Women</td>\n",
       "      <td>100</td>\n",
       "      <td>60</td>\n",
       "      <td>1</td>\n",
       "      <td>1</td>\n",
       "      <td>0</td>\n",
       "      <td>0</td>\n",
       "      <td>0</td>\n",
       "      <td>0</td>\n",
       "      <td>23.0</td>\n",
       "    </tr>\n",
       "  </tbody>\n",
       "</table>\n",
       "</div>"
      ],
      "text/plain": [
       "   id   age gender  ap_hi  ap_lo  cholesterol  gluc  smoke  alco  active  \\\n",
       "0   0  50.0    Men    110     80            1     1      0     0       1   \n",
       "1   1  55.0  Women    140     90            3     1      0     0       1   \n",
       "2   2  52.0  Women    130     70            3     1      0     0       0   \n",
       "3   3  48.0    Men    150    100            1     1      0     0       1   \n",
       "4   4  48.0  Women    100     60            1     1      0     0       0   \n",
       "\n",
       "   cardio   BMI  \n",
       "0       0  22.0  \n",
       "1       1  34.9  \n",
       "2       1  23.5  \n",
       "3       1  28.7  \n",
       "4       0  23.0  "
      ]
     },
     "execution_count": 363,
     "metadata": {},
     "output_type": "execute_result"
    }
   ],
   "source": [
    "# Remove the following features: BMI category, blood pressure category, height, weight\n",
    "df_feature2= df_copy.drop(['BMI_category', 'BP_category', 'height', 'weight'], axis=1)\n",
    "df_feature2.head()"
   ]
  },
  {
   "cell_type": "code",
   "execution_count": 364,
   "metadata": {},
   "outputs": [
    {
     "data": {
      "text/html": [
       "<div>\n",
       "<style scoped>\n",
       "    .dataframe tbody tr th:only-of-type {\n",
       "        vertical-align: middle;\n",
       "    }\n",
       "\n",
       "    .dataframe tbody tr th {\n",
       "        vertical-align: top;\n",
       "    }\n",
       "\n",
       "    .dataframe thead th {\n",
       "        text-align: right;\n",
       "    }\n",
       "</style>\n",
       "<table border=\"1\" class=\"dataframe\">\n",
       "  <thead>\n",
       "    <tr style=\"text-align: right;\">\n",
       "      <th></th>\n",
       "      <th>id</th>\n",
       "      <th>age</th>\n",
       "      <th>ap_hi</th>\n",
       "      <th>ap_lo</th>\n",
       "      <th>cholesterol</th>\n",
       "      <th>gluc</th>\n",
       "      <th>smoke</th>\n",
       "      <th>alco</th>\n",
       "      <th>active</th>\n",
       "      <th>cardio</th>\n",
       "      <th>BMI</th>\n",
       "      <th>gender_Men</th>\n",
       "      <th>gender_Women</th>\n",
       "    </tr>\n",
       "  </thead>\n",
       "  <tbody>\n",
       "    <tr>\n",
       "      <th>0</th>\n",
       "      <td>0</td>\n",
       "      <td>50.0</td>\n",
       "      <td>110</td>\n",
       "      <td>80</td>\n",
       "      <td>1</td>\n",
       "      <td>1</td>\n",
       "      <td>0</td>\n",
       "      <td>0</td>\n",
       "      <td>1</td>\n",
       "      <td>0</td>\n",
       "      <td>22.0</td>\n",
       "      <td>1</td>\n",
       "      <td>0</td>\n",
       "    </tr>\n",
       "    <tr>\n",
       "      <th>1</th>\n",
       "      <td>1</td>\n",
       "      <td>55.0</td>\n",
       "      <td>140</td>\n",
       "      <td>90</td>\n",
       "      <td>3</td>\n",
       "      <td>1</td>\n",
       "      <td>0</td>\n",
       "      <td>0</td>\n",
       "      <td>1</td>\n",
       "      <td>1</td>\n",
       "      <td>34.9</td>\n",
       "      <td>0</td>\n",
       "      <td>1</td>\n",
       "    </tr>\n",
       "    <tr>\n",
       "      <th>2</th>\n",
       "      <td>2</td>\n",
       "      <td>52.0</td>\n",
       "      <td>130</td>\n",
       "      <td>70</td>\n",
       "      <td>3</td>\n",
       "      <td>1</td>\n",
       "      <td>0</td>\n",
       "      <td>0</td>\n",
       "      <td>0</td>\n",
       "      <td>1</td>\n",
       "      <td>23.5</td>\n",
       "      <td>0</td>\n",
       "      <td>1</td>\n",
       "    </tr>\n",
       "    <tr>\n",
       "      <th>3</th>\n",
       "      <td>3</td>\n",
       "      <td>48.0</td>\n",
       "      <td>150</td>\n",
       "      <td>100</td>\n",
       "      <td>1</td>\n",
       "      <td>1</td>\n",
       "      <td>0</td>\n",
       "      <td>0</td>\n",
       "      <td>1</td>\n",
       "      <td>1</td>\n",
       "      <td>28.7</td>\n",
       "      <td>1</td>\n",
       "      <td>0</td>\n",
       "    </tr>\n",
       "    <tr>\n",
       "      <th>4</th>\n",
       "      <td>4</td>\n",
       "      <td>48.0</td>\n",
       "      <td>100</td>\n",
       "      <td>60</td>\n",
       "      <td>1</td>\n",
       "      <td>1</td>\n",
       "      <td>0</td>\n",
       "      <td>0</td>\n",
       "      <td>0</td>\n",
       "      <td>0</td>\n",
       "      <td>23.0</td>\n",
       "      <td>0</td>\n",
       "      <td>1</td>\n",
       "    </tr>\n",
       "  </tbody>\n",
       "</table>\n",
       "</div>"
      ],
      "text/plain": [
       "   id   age  ap_hi  ap_lo  cholesterol  gluc  smoke  alco  active  cardio  \\\n",
       "0   0  50.0    110     80            1     1      0     0       1       0   \n",
       "1   1  55.0    140     90            3     1      0     0       1       1   \n",
       "2   2  52.0    130     70            3     1      0     0       0       1   \n",
       "3   3  48.0    150    100            1     1      0     0       1       1   \n",
       "4   4  48.0    100     60            1     1      0     0       0       0   \n",
       "\n",
       "    BMI  gender_Men  gender_Women  \n",
       "0  22.0           1             0  \n",
       "1  34.9           0             1  \n",
       "2  23.5           0             1  \n",
       "3  28.7           1             0  \n",
       "4  23.0           0             1  "
      ]
     },
     "execution_count": 364,
     "metadata": {},
     "output_type": "execute_result"
    }
   ],
   "source": [
    "# Perform one-hot encoding on gender\n",
    "df2= pd.get_dummies(df_feature2, columns=['gender'])\n",
    "df2.head()"
   ]
  },
  {
   "attachments": {},
   "cell_type": "markdown",
   "metadata": {},
   "source": [
    "# 2.4 - Välja modell\n",
    "Välj 3-5 maskininlärningsmodeller, gärna så olika som möjligt. För varje dataset som vi skapade i uppgift 2.3\n",
    "gör följande:\n",
    "\n",
    "- train|validation|test split\n",
    "- skala datasetet med feature standardization och normalization (de görs inte samtidigt, utan i olika omgångar)\n",
    "- definiera hyperparametrar (param_grids) att testa för varje modell\n",
    "- använda GridSearchCV() och välja lämplig evalueringsmetric\n",
    "- gör prediction på valideringsdata\n",
    "- beräkna och spara evaluation score för ditt valda metric\n",
    "- checka bästa parametrarna för respektive modell\n",
    "\n",
    "Vilket dataset väljer du och vilken modell väljer du? Använd den modellen du valt och träna på all data förutom testdatan.\n"
   ]
  },
  {
   "attachments": {},
   "cell_type": "markdown",
   "metadata": {},
   "source": [
    "## Models are:\n",
    "- 1. Logistic Regression\n",
    "- 2. KNN \n",
    "- 3. SVM -Support Vector Machines\n",
    "- 4. Decision Tree\n",
    "- 5. Random Forest\n"
   ]
  },
  {
   "cell_type": "code",
   "execution_count": 365,
   "metadata": {},
   "outputs": [],
   "source": [
    "from sklearn.linear_model import LogisticRegression\n",
    "from sklearn.neighbors import KNeighborsClassifier\n",
    "from sklearn.svm import LinearSVC\n",
    "from sklearn.tree import DecisionTreeRegressor\n",
    "from sklearn.ensemble import RandomForestClassifier\n",
    "\n",
    "log_reg= LogisticRegression()\n",
    "knn= KNeighborsClassifier()\n",
    "svm = LinearSVC()\n",
    "decision_tree=DecisionTreeRegressor()\n",
    "random_forest= RandomForestClassifier() "
   ]
  },
  {
   "attachments": {},
   "cell_type": "markdown",
   "metadata": {},
   "source": [
    "## For first data df1:"
   ]
  },
  {
   "attachments": {},
   "cell_type": "markdown",
   "metadata": {},
   "source": [
    "- train|validation|test split"
   ]
  },
  {
   "cell_type": "code",
   "execution_count": 366,
   "metadata": {},
   "outputs": [
    {
     "name": "stdout",
     "output_type": "stream",
     "text": [
      "Number of rows and columns of first dataframe: (69971, 20)\n"
     ]
    }
   ],
   "source": [
    "print('Number of rows and columns of first dataframe:',df1.shape)"
   ]
  },
  {
   "cell_type": "code",
   "execution_count": 367,
   "metadata": {},
   "outputs": [
    {
     "name": "stdout",
     "output_type": "stream",
     "text": [
      "X_train1.shape = (55976, 19)\n",
      "X_val1.shape = (11196, 19)\n",
      "X_test1.shape = (2799, 19)\n",
      "y_train1.shape = (55976,)\n",
      "y_val1.shape = (11196,)\n",
      "y_test1.shape = (2799,)\n",
      "\n"
     ]
    }
   ],
   "source": [
    "from predict_model import split_data\n",
    "\n",
    "# For df1 data train |val|test split data\n",
    "X_train1, X_val1, X_test1, y_train1, y_val1, y_test1 = split_data(\n",
    "    df=df1, target_col=\"cardio\",test_size=0.2, random_state=42)\n",
    "\n",
    "\n",
    "print(\n",
    "    f\"{X_train1.shape = }\\n{X_val1.shape = }\\n{X_test1.shape = }\\n{y_train1.shape = }\\n{y_val1.shape = }\\n{y_test1.shape = }\\n\"\n",
    ")\n"
   ]
  },
  {
   "attachments": {},
   "cell_type": "markdown",
   "metadata": {},
   "source": [
    "- skala datasetet med feature standardization och normalization"
   ]
  },
  {
   "cell_type": "code",
   "execution_count": 368,
   "metadata": {},
   "outputs": [
    {
     "ename": "ImportError",
     "evalue": "cannot import name 'scale_features' from 'predict_model' (c:\\Users\\vinee\\Documents\\Github\\Machine-Learning-vineela-nedunuri\\Labb\\predict_model.py)",
     "output_type": "error",
     "traceback": [
      "\u001b[1;31m---------------------------------------------------------------------------\u001b[0m",
      "\u001b[1;31mImportError\u001b[0m                               Traceback (most recent call last)",
      "Cell \u001b[1;32mIn[368], line 1\u001b[0m\n\u001b[1;32m----> 1\u001b[0m \u001b[39mfrom\u001b[39;00m \u001b[39mpredict_model\u001b[39;00m \u001b[39mimport\u001b[39;00m scale_features\n\u001b[0;32m      2\u001b[0m pipelines \u001b[39m=\u001b[39m scale_features(scale_type\u001b[39m=\u001b[39m\u001b[39m'\u001b[39m\u001b[39mstandard\u001b[39m\u001b[39m'\u001b[39m)\n",
      "\u001b[1;31mImportError\u001b[0m: cannot import name 'scale_features' from 'predict_model' (c:\\Users\\vinee\\Documents\\Github\\Machine-Learning-vineela-nedunuri\\Labb\\predict_model.py)"
     ]
    }
   ],
   "source": [
    "from predict_model import scale_features\n",
    "pipelines = scale_features(scale_type='standard')"
   ]
  },
  {
   "attachments": {},
   "cell_type": "markdown",
   "metadata": {},
   "source": [
    "- define hyperparameters for choosen models"
   ]
  },
  {
   "cell_type": "code",
   "execution_count": null,
   "metadata": {},
   "outputs": [],
   "source": [
    "# Logistic Regression hyperparameters\n",
    "log_param_grid = [{\"LR__penalty\": [\"l1\", \"l2\"], \"LR__C\": [0.1, 1, 10], \"LR__solver\": [\"liblinear\"]}]\n",
    "\n",
    "# KNN hyperparameters\n",
    "knn_param_grid = [{\"KNN__n_neighbors\": [3, 5],\"KNN__weights\": [\"uniform\", \"distance\"],\n",
    "        \"KNN__metric\": [\"euclidean\", \"manhattan\"],}]\n",
    "\n",
    "# SVM hyperparameters\n",
    "svm_param_grid = [{\"SVM__kernel\": [\"linear\", \"rbf\"],\"SVM__C\": [0.1, 1, 10],}]\n",
    "\n",
    "# Decision Tree hyperparameters\n",
    "tree_param_grid = [{\"DT__max_depth\": [3, 5, 7],\"DT__min_samples_split\": [2, 5, 10]}]\n",
    "\n",
    "# Random Forest hyperparameters\n",
    "forest_param_grid = [{\"RF__max_depth\": [3, 5, 7],\"RF__min_samples_split\": [2, 5, 10],\"RF_n_estimators\": [50, 100, 200]}]\n"
   ]
  },
  {
   "cell_type": "code",
   "execution_count": null,
   "metadata": {},
   "outputs": [],
   "source": [
    "param_grids = {\n",
    "    'Logistic Regression': log_param_grid,\n",
    "    'KNN': knn_param_grid,\n",
    "    'SVM': svm_param_grid,\n",
    "    'Decision Tree': tree_param_grid,\n",
    "    'Random Forest': forest_param_grid\n",
    "}"
   ]
  },
  {
   "cell_type": "code",
   "execution_count": null,
   "metadata": {},
   "outputs": [],
   "source": [
    "from predict_model import grid_search\n",
    "\n",
    "for model_name, pipeline in pipelines.items():\n",
    "    param_grid = param_grids[model_name]\n",
    "    score_file = f'/results/{model_name.lower()}_accuracy_scores.txt'\n",
    "    grid_search(pipeline, param_grid, X_train1, y_train1, X_val1, y_val1, score_file)"
   ]
  },
  {
   "attachments": {},
   "cell_type": "markdown",
   "metadata": {},
   "source": [
    "### Feature scaling is standard"
   ]
  },
  {
   "cell_type": "code",
   "execution_count": null,
   "metadata": {},
   "outputs": [],
   "source": [
    "from model import scale_features\n",
    "\n",
    "# if scale is standard\n",
    "scaled1_X_train1, scaled1_X_val1, scaled1_X_test1 = scale_features(X_train1, X_val1, X_test1, scale_type=\"standard\")\n"
   ]
  },
  {
   "cell_type": "code",
   "execution_count": null,
   "metadata": {},
   "outputs": [
    {
     "name": "stdout",
     "output_type": "stream",
     "text": [
      "Accuracy Score: 70.42%\n",
      "Best parameters: {'C': 0.1, 'penalty': 'l2', 'solver': 'liblinear'}\n",
      "CLASSIFICATION REPORT:\n",
      "              precision    recall  f1-score   support\n",
      "\n",
      "           0       0.68      0.76      0.72      5613\n",
      "           1       0.73      0.65      0.69      5583\n",
      "\n",
      "    accuracy                           0.70     11196\n",
      "   macro avg       0.71      0.70      0.70     11196\n",
      "weighted avg       0.71      0.70      0.70     11196\n",
      "\n",
      "Confusion Matrix: \n",
      "  [[4274 1339]\n",
      " [1973 3610]]\n"
     ]
    },
    {
     "data": {
      "image/png": "[encoded data removed]",
      "text/plain": [
       "<Figure size 640x480 with 2 Axes>"
      ]
     },
     "metadata": {},
     "output_type": "display_data"
    }
   ],
   "source": [
    "from model import grid_search\n",
    "\n",
    "# Logistic Regression Model\n",
    "score_file = 'results/accuracy_scores.txt'\n",
    "logistic_regression= grid_search(log_reg,param_grid_lr,scaled1_X_train1,y_train1,scaled1_X_val1, y_val1,score_file)\n",
    "\n"
   ]
  },
  {
   "cell_type": "code",
   "execution_count": null,
   "metadata": {},
   "outputs": [],
   "source": [
    "\n",
    "# KNN   \n",
    "#k_neighbour=grid_search(knn,param_grid_knn,scaled1_X_train1,y_train1,scaled1_X_val1, y_val1,score_file)\n"
   ]
  },
  {
   "cell_type": "code",
   "execution_count": null,
   "metadata": {},
   "outputs": [],
   "source": [
    "#support_vector_machines= grid_search(svm,param_grid_svm,scaled1_X_train1,y_train1,scaled1_X_val1, y_val1,score_file)\n"
   ]
  },
  {
   "cell_type": "code",
   "execution_count": null,
   "metadata": {},
   "outputs": [],
   "source": [
    "#decision_tree=grid_search(decision_tree,param_grid_dt,scaled1_X_train1,y_train1,scaled1_X_val1, y_val1,score_file)\n"
   ]
  },
  {
   "cell_type": "code",
   "execution_count": null,
   "metadata": {},
   "outputs": [],
   "source": [
    "#random_forest=grid_search(random_forest,param_grid_rf,scaled1_X_train1,y_train1,scaled1_X_val1, y_val1,score_file)"
   ]
  },
  {
   "cell_type": "code",
   "execution_count": null,
   "metadata": {},
   "outputs": [
    {
     "ename": "TypeError",
     "evalue": "'NoneType' object is not subscriptable",
     "output_type": "error",
     "traceback": [
      "\u001b[1;31m---------------------------------------------------------------------------\u001b[0m",
      "\u001b[1;31mTypeError\u001b[0m                                 Traceback (most recent call last)",
      "Cell \u001b[1;32mIn[60], line 5\u001b[0m\n\u001b[0;32m      1\u001b[0m \u001b[39m# create a list of dictionaries for each model result\u001b[39;00m\n\u001b[0;32m      2\u001b[0m results \u001b[39m=\u001b[39m [\n\u001b[0;32m      3\u001b[0m     {\n\u001b[0;32m      4\u001b[0m         \u001b[39m\"\u001b[39m\u001b[39mModel\u001b[39m\u001b[39m\"\u001b[39m: \u001b[39m\"\u001b[39m\u001b[39mLogistic Regression\u001b[39m\u001b[39m\"\u001b[39m,\n\u001b[1;32m----> 5\u001b[0m         \u001b[39m\"\u001b[39m\u001b[39mAccuracy\u001b[39m\u001b[39m\"\u001b[39m: logistic_regression[\u001b[39m\"\u001b[39;49m\u001b[39maccuracy\u001b[39;49m\u001b[39m\"\u001b[39;49m],\n\u001b[0;32m      6\u001b[0m         \n\u001b[0;32m      7\u001b[0m     },\n\u001b[0;32m      8\u001b[0m     {\n\u001b[0;32m      9\u001b[0m         \u001b[39m\"\u001b[39m\u001b[39mModel\u001b[39m\u001b[39m\"\u001b[39m: \u001b[39m\"\u001b[39m\u001b[39mK-Nearest Neighbors\u001b[39m\u001b[39m\"\u001b[39m,\n\u001b[0;32m     10\u001b[0m         \u001b[39m\"\u001b[39m\u001b[39mAccuracy\u001b[39m\u001b[39m\"\u001b[39m: k_neighbour[\u001b[39m\"\u001b[39m\u001b[39maccuracy\u001b[39m\u001b[39m\"\u001b[39m],\n\u001b[0;32m     11\u001b[0m         \n\u001b[0;32m     12\u001b[0m     },\n\u001b[0;32m     13\u001b[0m     {\n\u001b[0;32m     14\u001b[0m         \u001b[39m\"\u001b[39m\u001b[39mModel\u001b[39m\u001b[39m\"\u001b[39m: \u001b[39m\"\u001b[39m\u001b[39mSupport Vector Machines\u001b[39m\u001b[39m\"\u001b[39m,\n\u001b[0;32m     15\u001b[0m         \u001b[39m\"\u001b[39m\u001b[39mAccuracy\u001b[39m\u001b[39m\"\u001b[39m: support_vector_machines[\u001b[39m\"\u001b[39m\u001b[39maccuracy\u001b[39m\u001b[39m\"\u001b[39m],\n\u001b[0;32m     16\u001b[0m     },\n\u001b[0;32m     17\u001b[0m     {\n\u001b[0;32m     18\u001b[0m         \u001b[39m\"\u001b[39m\u001b[39mModel\u001b[39m\u001b[39m\"\u001b[39m: \u001b[39m\"\u001b[39m\u001b[39mDecision Tree\u001b[39m\u001b[39m\"\u001b[39m,\n\u001b[0;32m     19\u001b[0m         \u001b[39m\"\u001b[39m\u001b[39mAccuracy\u001b[39m\u001b[39m\"\u001b[39m: decision_tree[\u001b[39m\"\u001b[39m\u001b[39maccuracy\u001b[39m\u001b[39m\"\u001b[39m],\n\u001b[0;32m     20\u001b[0m         \n\u001b[0;32m     21\u001b[0m     },\n\u001b[0;32m     22\u001b[0m     {\n\u001b[0;32m     23\u001b[0m         \u001b[39m\"\u001b[39m\u001b[39mModel\u001b[39m\u001b[39m\"\u001b[39m: \u001b[39m\"\u001b[39m\u001b[39mRandom Forest\u001b[39m\u001b[39m\"\u001b[39m,\n\u001b[0;32m     24\u001b[0m         \u001b[39m\"\u001b[39m\u001b[39mAccuracy\u001b[39m\u001b[39m\"\u001b[39m: random_forest[\u001b[39m\"\u001b[39m\u001b[39maccuracy\u001b[39m\u001b[39m\"\u001b[39m],\n\u001b[0;32m     25\u001b[0m     },\n\u001b[0;32m     26\u001b[0m ]\n\u001b[0;32m     28\u001b[0m \u001b[39m# create a pandas dataframe from the list of dictionaries\u001b[39;00m\n\u001b[0;32m     29\u001b[0m results_table \u001b[39m=\u001b[39m pd\u001b[39m.\u001b[39mDataFrame(results)\n",
      "\u001b[1;31mTypeError\u001b[0m: 'NoneType' object is not subscriptable"
     ]
    }
   ],
   "source": [
    "# create a list of dictionaries for each model result\n",
    "results = [\n",
    "    {\n",
    "        \"Model\": \"Logistic Regression\",\n",
    "        \"Accuracy\": logistic_regression[\"accuracy\"],\n",
    "        \n",
    "    },\n",
    "    {\n",
    "        \"Model\": \"K-Nearest Neighbors\",\n",
    "        \"Accuracy\": k_neighbour[\"accuracy\"],\n",
    "        \n",
    "    },\n",
    "    {\n",
    "        \"Model\": \"Support Vector Machines\",\n",
    "        \"Accuracy\": support_vector_machines[\"accuracy\"],\n",
    "    },\n",
    "    {\n",
    "        \"Model\": \"Decision Tree\",\n",
    "        \"Accuracy\": decision_tree[\"accuracy\"],\n",
    "        \n",
    "    },\n",
    "    {\n",
    "        \"Model\": \"Random Forest\",\n",
    "        \"Accuracy\": random_forest[\"accuracy\"],\n",
    "    },\n",
    "]\n",
    "\n",
    "# create a pandas dataframe from the list of dictionaries\n",
    "results_table = pd.DataFrame(results)\n",
    "\n",
    "# display the results table\n",
    "print(results_table)\n"
   ]
  },
  {
   "attachments": {},
   "cell_type": "markdown",
   "metadata": {},
   "source": [
    "### Feature scaling is minmax"
   ]
  },
  {
   "cell_type": "code",
   "execution_count": null,
   "metadata": {},
   "outputs": [],
   "source": [
    "#if scale is minmax\n",
    "scaled2_X_train1, scaled2_X_val1, scaled2_X_test1 = scale_features(X_train1, X_val1, X_test1, scale_type=\"minmax\")\n",
    "\n"
   ]
  },
  {
   "cell_type": "code",
   "execution_count": null,
   "metadata": {},
   "outputs": [],
   "source": [
    "logistic_regression_m= grid_search(log_reg,param_grid_lr,scaled2_X_train1,y_train1,scaled2_X_val1, y_val1,score_file)\n"
   ]
  },
  {
   "cell_type": "code",
   "execution_count": null,
   "metadata": {},
   "outputs": [],
   "source": [
    "k_neighbour_m=grid_search(knn,param_grid_knn,scaled2_X_train1,y_train1,scaled2_X_val1, y_val1,score_file)\n"
   ]
  },
  {
   "cell_type": "code",
   "execution_count": null,
   "metadata": {},
   "outputs": [],
   "source": [
    "support_vector_machines_m= grid_search(svm,param_grid_svm,scaled2_X_train1,y_train1,scaled2_X_val1, y_val1,score_file)\n"
   ]
  },
  {
   "cell_type": "code",
   "execution_count": null,
   "metadata": {},
   "outputs": [],
   "source": [
    "decision_tree_m=grid_search(decision_tree,param_grid_dt,scaled2_X_train1,y_train1,scaled2_X_val1, y_val1, score_file)\n"
   ]
  },
  {
   "cell_type": "code",
   "execution_count": null,
   "metadata": {},
   "outputs": [],
   "source": [
    "random_forest_m=grid_search(random_forest,param_grid_rf,scaled2_X_train1,y_train1,scaled2_X_val1, y_val1,score_file)"
   ]
  },
  {
   "cell_type": "code",
   "execution_count": null,
   "metadata": {},
   "outputs": [],
   "source": [
    "# create a list of dictionaries for each model result\n",
    "results = [\n",
    "    {\n",
    "        \"Model\": \"Logistic Regression\",\n",
    "        \"Accuracy\": logistic_regression_m[\"accuracy\"],\n",
    "        \n",
    "    },\n",
    "    {\n",
    "        \"Model\": \"K-Nearest Neighbors\",\n",
    "        \"Accuracy\": k_neighbour_m[\"accuracy\"],\n",
    "        \n",
    "    },\n",
    "    {\n",
    "        \"Model\": \"Support Vector Machines\",\n",
    "        \"Accuracy\": support_vector_machines_m[\"accuracy\"],\n",
    "    },\n",
    "    {\n",
    "        \"Model\": \"Decision Tree\",\n",
    "        \"Accuracy\": decision_tree_m[\"accuracy\"],\n",
    "        \n",
    "    },\n",
    "    {\n",
    "        \"Model\": \"Random Forest\",\n",
    "        \"Accuracy\": random_forest_m[\"accuracy\"],\n",
    "    },\n",
    "]\n",
    "\n",
    "# create a pandas dataframe from the list of dictionaries\n",
    "results_table = pd.DataFrame(results)\n",
    "\n",
    "# display the results table\n",
    "print(results_table)\n"
   ]
  },
  {
   "attachments": {},
   "cell_type": "markdown",
   "metadata": {},
   "source": [
    "## For another data df2:"
   ]
  },
  {
   "attachments": {},
   "cell_type": "markdown",
   "metadata": {},
   "source": [
    "- train|validation|test split"
   ]
  },
  {
   "cell_type": "code",
   "execution_count": null,
   "metadata": {},
   "outputs": [
    {
     "name": "stdout",
     "output_type": "stream",
     "text": [
      "Number of rows and columns of second dataframe: (69971, 13)\n"
     ]
    }
   ],
   "source": [
    "print('Number of rows and columns of second dataframe:',df2.shape)"
   ]
  },
  {
   "cell_type": "code",
   "execution_count": null,
   "metadata": {},
   "outputs": [
    {
     "name": "stdout",
     "output_type": "stream",
     "text": [
      "X_train2.shape = (55976, 12)\n",
      "X_val2.shape = (6997, 12)\n",
      "X_test2.shape = (6998, 12)\n",
      "y_train2.shape = (55976,)\n",
      "y_val2.shape = (6997,)\n",
      "y_test2.shape = (6998,)\n",
      "\n"
     ]
    }
   ],
   "source": [
    "# For df1 data train |val|test split data\n",
    "X_train2, X_val2, X_test2, y_train2, y_val2, y_test2 = split_data(\n",
    "    df=df2, target_col=\"cardio\", test_size=0.2, random_state=42\n",
    ")\n",
    "\n",
    "print(\n",
    "    f\"{X_train2.shape = }\\n{X_val2.shape = }\\n{X_test2.shape = }\\n{y_train2.shape = }\\n{y_val2.shape = }\\n{y_test2.shape = }\\n\"\n",
    ")\n"
   ]
  },
  {
   "cell_type": "code",
   "execution_count": null,
   "metadata": {},
   "outputs": [],
   "source": [
    "\n",
    "# for df2\n",
    "X_train_scaled2, X_val_scaled2, X_test_scaled2 = scale_features(X_train2, X_val2, X_test2, scale_type=\"standard\")\n",
    "\n"
   ]
  }
 ],
 "metadata": {
  "kernelspec": {
   "display_name": "Machine-learning-tetaV3aO",
   "language": "python",
   "name": "python3"
  },
  "language_info": {
   "codemirror_mode": {
    "name": "ipython",
    "version": 3
   },
   "file_extension": ".py",
   "mimetype": "text/x-python",
   "name": "python",
   "nbconvert_exporter": "python",
   "pygments_lexer": "ipython3",
   "version": "3.9.13"
  },
  "orig_nbformat": 4
 },
 "nbformat": 4,
 "nbformat_minor": 2
}
