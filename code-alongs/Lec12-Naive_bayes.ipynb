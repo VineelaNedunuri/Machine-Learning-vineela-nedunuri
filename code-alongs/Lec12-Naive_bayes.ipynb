{
 "cells": [
  {
   "attachments": {},
   "cell_type": "markdown",
   "metadata": {},
   "source": [
    "# Naive Bayes"
   ]
  },
  {
   "attachments": {},
   "cell_type": "markdown",
   "metadata": {},
   "source": [
    "## Spam/ham classification"
   ]
  },
  {
   "cell_type": "code",
   "execution_count": null,
   "metadata": {},
   "outputs": [],
   "source": [
    "import pandas as pd \n",
    "import seaborn as sns \n",
    "import matplotlib.pyplot as plt \n",
    "import numpy as np \n",
    "\n",
    "plt.style.use(\"seaborn-white\")\n",
    "df = pd.read_csv(\"../data/spam.csv\", encoding=\"latin-1\")\n",
    "df.head()"
   ]
  },
  {
   "cell_type": "code",
   "execution_count": null,
   "metadata": {},
   "outputs": [],
   "source": [
    "# check how many rows have values in the Unnamed columns\n",
    "np.sum(df[df.columns[2:].tolist()].notna())"
   ]
  },
  {
   "cell_type": "code",
   "execution_count": null,
   "metadata": {},
   "outputs": [],
   "source": [
    "print(df.shape)\n",
    "# read some of the Unnamed that have values\n",
    "df.loc[df[\"Unnamed: 2\"].notna()].iloc[:5]"
   ]
  },
  {
   "cell_type": "code",
   "execution_count": null,
   "metadata": {},
   "outputs": [],
   "source": [
    "# as it is very few rows, we remove those columns\n",
    "df_no_NaN = df.dropna(axis=1)\n",
    "df_no_NaN.columns = [\"class\", \"content\"]\n",
    "df_no_NaN.info()"
   ]
  },
  {
   "cell_type": "code",
   "execution_count": null,
   "metadata": {},
   "outputs": [],
   "source": [
    "# as it is very few rows, we remove those columns\n",
    "df_no_NaN = df.dropna(axis=1)\n",
    "df_no_NaN.columns = [\"class\", \"content\"]\n",
    "df_no_NaN.info()"
   ]
  },
  {
   "cell_type": "code",
   "execution_count": null,
   "metadata": {},
   "outputs": [],
   "source": [
    "df = pd.get_dummies(df_no_NaN, columns = [\"class\"], drop_first=True)\n",
    "X, y = df[\"content\"], df[\"class_spam\"]\n",
    "X.head()"
   ]
  }
 ],
 "metadata": {
  "kernelspec": {
   "display_name": "Machine-learning-tetaV3aO",
   "language": "python",
   "name": "python3"
  },
  "language_info": {
   "name": "python",
   "version": "3.9.13"
  },
  "orig_nbformat": 4
 },
 "nbformat": 4,
 "nbformat_minor": 2
}
